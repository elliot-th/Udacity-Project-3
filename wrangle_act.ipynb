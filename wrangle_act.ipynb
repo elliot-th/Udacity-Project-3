{
 "cells": [
  {
   "cell_type": "markdown",
   "metadata": {},
   "source": [
    "# Table Of Contents\n",
    "\n",
    "1. [Import and Setup](#import)\n",
    "2. [Gather Data](#gather_data)\n",
    "    2.1 [Gather from the provided Twitter archives](#csv)\n",
    "    2.2 [Gather from the provided neural network results](#tsv)\n",
    "    2.3 [Gather from the Twitter data](#twitter)\n",
    "3. [Assess Data](#assess)\n",
    "    3.1 [Observations](#observations)\n",
    "    3.2 [Assessment](#assessment)\n",
    "4. [Clean Data](#clean_data)\n",
    "    4.1 [Quality Issue 1](#qi_1)\n",
    "    4.2 [Quality Issue 2](#qi_2)\n",
    "    4.3 [Quality Issue 3](#qi_3)\n",
    "    4.4 [Quality Issue 4](#qi_4)\n",
    "    4.5 [Quality Issue 5](#qi_5)\n",
    "    4.6 [Quality Issue 6](#qi_6)\n",
    "    4.7 [Quality Issue 7](#qi_7)\n",
    "    4.8 [Quality Issue 8](#qi_8)\n",
    "    4.9 [Tidiness Issue 1](#ti_1)\n",
    "    4.10 [Tidiness Issue 2](#ti_2)\n",
    "    4.11 [Save Clean Data](#save)\n",
    "5. [Analyze Data](#analyze)\n",
    "    5.1 [Dogstage and Favorites and Retweets](#groupby_dogstage)\n",
    "    5.2 [Number and Ratio of Dogstages](#number_ratio_dogstages)\n",
    "    5.3 [Dogstage Ratings](#boxplot)\n",
    "6. [Insights](#insights)"
   ]
  },
  {
   "cell_type": "markdown",
   "metadata": {},
   "source": [
    "# 1. Imports and Setup\n",
    "<a id=\"import\"></a>"
   ]
  },
  {
   "cell_type": "code",
   "execution_count": 1,
   "metadata": {},
   "outputs": [],
   "source": [
    "# Import necessary libraries\n",
    "import pandas as pd\n",
    "import numpy as np\n",
    "import requests\n",
    "import json\n",
    "import os\n",
    "import re\n",
    "from matplotlib import pyplot as plt"
   ]
  },
  {
   "cell_type": "code",
   "execution_count": 2,
   "metadata": {},
   "outputs": [],
   "source": [
    "# To plot graphs in this notebook\n",
    "%matplotlib inline\n",
    "plt.style.use('fivethirtyeight')"
   ]
  },
  {
   "cell_type": "markdown",
   "metadata": {},
   "source": [
    "# 2. Gather Data\n",
    "<a id=\"gather_data\"></a>"
   ]
  },
  {
   "cell_type": "markdown",
   "metadata": {},
   "source": [
    "### 2.1 Gather  from the provided Twitter archives\n",
    "<a id=\"csv\"></a>"
   ]
  },
  {
   "cell_type": "code",
   "execution_count": 3,
   "metadata": {},
   "outputs": [
    {
     "data": {
      "text/html": [
       "<div>\n",
       "<style scoped>\n",
       "    .dataframe tbody tr th:only-of-type {\n",
       "        vertical-align: middle;\n",
       "    }\n",
       "\n",
       "    .dataframe tbody tr th {\n",
       "        vertical-align: top;\n",
       "    }\n",
       "\n",
       "    .dataframe thead th {\n",
       "        text-align: right;\n",
       "    }\n",
       "</style>\n",
       "<table border=\"1\" class=\"dataframe\">\n",
       "  <thead>\n",
       "    <tr style=\"text-align: right;\">\n",
       "      <th></th>\n",
       "      <th>tweet_id</th>\n",
       "      <th>in_reply_to_status_id</th>\n",
       "      <th>in_reply_to_user_id</th>\n",
       "      <th>timestamp</th>\n",
       "      <th>source</th>\n",
       "      <th>text</th>\n",
       "      <th>retweeted_status_id</th>\n",
       "      <th>retweeted_status_user_id</th>\n",
       "      <th>retweeted_status_timestamp</th>\n",
       "      <th>expanded_urls</th>\n",
       "      <th>rating_numerator</th>\n",
       "      <th>rating_denominator</th>\n",
       "      <th>name</th>\n",
       "      <th>doggo</th>\n",
       "      <th>floofer</th>\n",
       "      <th>pupper</th>\n",
       "      <th>puppo</th>\n",
       "    </tr>\n",
       "  </thead>\n",
       "  <tbody>\n",
       "    <tr>\n",
       "      <th>506</th>\n",
       "      <td>812747805718642688</td>\n",
       "      <td>NaN</td>\n",
       "      <td>NaN</td>\n",
       "      <td>2016-12-24 19:52:31 +0000</td>\n",
       "      <td>&lt;a href=\"http://twitter.com/download/iphone\" r...</td>\n",
       "      <td>RT @dog_rates: Meet Sammy. At first I was like...</td>\n",
       "      <td>6.800555e+17</td>\n",
       "      <td>4.196984e+09</td>\n",
       "      <td>2015-12-24 16:00:30 +0000</td>\n",
       "      <td>https://twitter.com/dog_rates/status/680055455...</td>\n",
       "      <td>10</td>\n",
       "      <td>10</td>\n",
       "      <td>Sammy</td>\n",
       "      <td>None</td>\n",
       "      <td>None</td>\n",
       "      <td>None</td>\n",
       "      <td>None</td>\n",
       "    </tr>\n",
       "  </tbody>\n",
       "</table>\n",
       "</div>"
      ],
      "text/plain": [
       "               tweet_id  in_reply_to_status_id  in_reply_to_user_id  \\\n",
       "506  812747805718642688                    NaN                  NaN   \n",
       "\n",
       "                     timestamp  \\\n",
       "506  2016-12-24 19:52:31 +0000   \n",
       "\n",
       "                                                source  \\\n",
       "506  <a href=\"http://twitter.com/download/iphone\" r...   \n",
       "\n",
       "                                                  text  retweeted_status_id  \\\n",
       "506  RT @dog_rates: Meet Sammy. At first I was like...         6.800555e+17   \n",
       "\n",
       "     retweeted_status_user_id retweeted_status_timestamp  \\\n",
       "506              4.196984e+09  2015-12-24 16:00:30 +0000   \n",
       "\n",
       "                                         expanded_urls  rating_numerator  \\\n",
       "506  https://twitter.com/dog_rates/status/680055455...                10   \n",
       "\n",
       "     rating_denominator   name doggo floofer pupper puppo  \n",
       "506                  10  Sammy  None    None   None  None  "
      ]
     },
     "execution_count": 3,
     "metadata": {},
     "output_type": "execute_result"
    }
   ],
   "source": [
    "# Get the provided twitter archives\n",
    "tweet_data_raw = pd.read_csv('twitter-archive-enhanced.csv')\n",
    "tweet_data_raw.sample(1)"
   ]
  },
  {
   "cell_type": "markdown",
   "metadata": {},
   "source": [
    "### 2.2 Gather from the provided neural network results\n",
    "<a id=\"tsv\"></a>"
   ]
  },
  {
   "cell_type": "code",
   "execution_count": 4,
   "metadata": {},
   "outputs": [],
   "source": [
    "# Get the 'image-predictions.tsv' downloaded\n",
    "pred_image_url = 'https://d17h27t6h515a5.cloudfront.net/topher/2017/August/599fd2ad_image-predictions/image-predictions.tsv'\n",
    "response = requests.get(pred_image_url)"
   ]
  },
  {
   "cell_type": "code",
   "execution_count": 5,
   "metadata": {},
   "outputs": [],
   "source": [
    "# Store the downloaded 'image-predictions.tsv' file within a file in Project 3\n",
    "pred_image_storage_file = 'pred_image_storage'\n",
    "\n",
    "if not os.path.exists(pred_image_storage_file):\n",
    "    os.makedirs(pred_image_storage_file)"
   ]
  },
  {
   "cell_type": "code",
   "execution_count": 6,
   "metadata": {},
   "outputs": [],
   "source": [
    "# Make the 'image-predictions.tsv' file available to be read\n",
    "with open(os.path.join(pred_image_storage_file, pred_image_url.split('/')[-1] ), mode = 'wb' ) as file:\n",
    "    file.write(response.content)"
   ]
  },
  {
   "cell_type": "code",
   "execution_count": 7,
   "metadata": {},
   "outputs": [
    {
     "data": {
      "text/html": [
       "<div>\n",
       "<style scoped>\n",
       "    .dataframe tbody tr th:only-of-type {\n",
       "        vertical-align: middle;\n",
       "    }\n",
       "\n",
       "    .dataframe tbody tr th {\n",
       "        vertical-align: top;\n",
       "    }\n",
       "\n",
       "    .dataframe thead th {\n",
       "        text-align: right;\n",
       "    }\n",
       "</style>\n",
       "<table border=\"1\" class=\"dataframe\">\n",
       "  <thead>\n",
       "    <tr style=\"text-align: right;\">\n",
       "      <th></th>\n",
       "      <th>tweet_id</th>\n",
       "      <th>jpg_url</th>\n",
       "      <th>img_num</th>\n",
       "      <th>p1</th>\n",
       "      <th>p1_conf</th>\n",
       "      <th>p1_dog</th>\n",
       "      <th>p2</th>\n",
       "      <th>p2_conf</th>\n",
       "      <th>p2_dog</th>\n",
       "      <th>p3</th>\n",
       "      <th>p3_conf</th>\n",
       "      <th>p3_dog</th>\n",
       "    </tr>\n",
       "  </thead>\n",
       "  <tbody>\n",
       "    <tr>\n",
       "      <th>0</th>\n",
       "      <td>666020888022790149</td>\n",
       "      <td>https://pbs.twimg.com/media/CT4udn0WwAA0aMy.jpg</td>\n",
       "      <td>1</td>\n",
       "      <td>Welsh_springer_spaniel</td>\n",
       "      <td>0.465074</td>\n",
       "      <td>True</td>\n",
       "      <td>collie</td>\n",
       "      <td>0.156665</td>\n",
       "      <td>True</td>\n",
       "      <td>Shetland_sheepdog</td>\n",
       "      <td>0.061428</td>\n",
       "      <td>True</td>\n",
       "    </tr>\n",
       "  </tbody>\n",
       "</table>\n",
       "</div>"
      ],
      "text/plain": [
       "             tweet_id                                          jpg_url  \\\n",
       "0  666020888022790149  https://pbs.twimg.com/media/CT4udn0WwAA0aMy.jpg   \n",
       "\n",
       "   img_num                      p1   p1_conf  p1_dog      p2   p2_conf  \\\n",
       "0        1  Welsh_springer_spaniel  0.465074    True  collie  0.156665   \n",
       "\n",
       "   p2_dog                 p3   p3_conf  p3_dog  \n",
       "0    True  Shetland_sheepdog  0.061428    True  "
      ]
     },
     "execution_count": 7,
     "metadata": {},
     "output_type": "execute_result"
    }
   ],
   "source": [
    "# Read and view 'image-predictions.tsv' into a Pandas format\n",
    "image_pred_raw = pd.read_csv('pred_image_storage\\image-predictions.tsv', sep = '\\t')\n",
    "image_pred_raw.head(1)"
   ]
  },
  {
   "cell_type": "markdown",
   "metadata": {},
   "source": [
    "### 2.3 Gather from the Twitter data\n",
    "<a id=\"twitter\"></a>"
   ]
  },
  {
   "cell_type": "code",
   "execution_count": null,
   "metadata": {},
   "outputs": [],
   "source": [
    "# Below is a copy of the given Twitter API code.  I did NOT use this.  I just downloaded the given Twitter information\n",
    "# through the \"tweet-json.txt\" file.\n",
    "\n",
    "import tweepy\n",
    "from tweepy import OAuthHandler\n",
    "import json\n",
    "from timeit import default_timer as timer\n",
    "\n",
    "# Query Twitter API for each tweet in the Twitter archive and save JSON in a text file\n",
    "# These are hidden to comply with Twitter's API terms and conditions\n",
    "consumer_key = 'HIDDEN'\n",
    "consumer_secret = 'HIDDEN'\n",
    "access_token = 'HIDDEN'\n",
    "access_secret = 'HIDDEN'\n",
    "\n",
    "auth = OAuthHandler(consumer_key, consumer_secret)\n",
    "auth.set_access_token(access_token, access_secret)\n",
    "\n",
    "api = tweepy.API(auth, wait_on_rate_limit=True)\n",
    "\n",
    "# NOTE TO STUDENT WITH MOBILE VERIFICATION ISSUES:\n",
    "# df_1 is a DataFrame with the twitter_archive_enhanced.csv file. You may have to\n",
    "# change line 17 to match the name of your DataFrame with twitter_archive_enhanced.csv\n",
    "# NOTE TO REVIEWER: this student had mobile verification issues so the following\n",
    "# Twitter API code was sent to this student from a Udacity instructor\n",
    "# Tweet IDs for which to gather additional data via Twitter's API\n",
    "tweet_ids = df_1.tweet_id.values\n",
    "len(tweet_ids)\n",
    "\n",
    "# Query Twitter's API for JSON data for each tweet ID in the Twitter archive\n",
    "count = 0\n",
    "fails_dict = {}\n",
    "start = timer()\n",
    "# Save each tweet's returned JSON as a new line in a .txt file\n",
    "with open('tweet_json.txt', 'w') as outfile:\n",
    "    # This loop will likely take 20-30 minutes to run because of Twitter's rate limit\n",
    "    for tweet_id in tweet_ids:\n",
    "        count += 1\n",
    "        print(str(count) + \": \" + str(tweet_id))\n",
    "        try:\n",
    "            tweet = api.get_status(tweet_id, tweet_mode='extended')\n",
    "            print(\"Success\")\n",
    "            json.dump(tweet._json, outfile)\n",
    "            outfile.write('\\n')\n",
    "        except tweepy.TweepError as e:\n",
    "            print(\"Fail\")\n",
    "            fails_dict[tweet_id] = e\n",
    "            pass\n",
    "end = timer()\n",
    "print(end - start)\n",
    "print(fails_dict)"
   ]
  },
  {
   "cell_type": "code",
   "execution_count": 8,
   "metadata": {},
   "outputs": [],
   "source": [
    "# Open and read 'tweet_json.txt' file\n",
    "df_tweet_raw = []\n",
    "\n",
    "with open('tweet-json.txt', encoding = 'utf-8', mode = 'r') as file:\n",
    "    \n",
    "    for line in file:\n",
    "        information = json.loads(line)\n",
    "        tweet_id = information['id_str']\n",
    "        retweet_count = information['retweet_count']\n",
    "        retweet = information['retweeted']\n",
    "        favorite_count = information['favorite_count']\n",
    "        tweet_text = information['full_text']\n",
    "\n",
    "        dog_stage = ''\n",
    "        if 'pupper' in tweet_text.lower():\n",
    "            dog_stage += 'pupper'\n",
    "        if 'doggo' in tweet_text.lower():\n",
    "            dog_stage += 'doggo'\n",
    "        if 'floofer' in tweet_text.lower():\n",
    "            dog_stage += 'floofer'\n",
    "        if 'puppo' in tweet_text.lower():\n",
    "            dog_stage += 'puppo'\n",
    "        if not dog_stage:\n",
    "            dog_stage = 'None'\n",
    "            \n",
    "        rating_raw = re.findall('(?:\\d+\\.)?\\d+\\/\\d+', tweet_text)      \n",
    "        \n",
    "        # Append data to 'df'\n",
    "        df_tweet_raw.append({\n",
    "            'tweet_id': tweet_id,\n",
    "            'retweet_count': retweet_count,\n",
    "            'favorite_count': favorite_count,\n",
    "            'dog_stage': dog_stage,\n",
    "            'retweet': retweet,\n",
    "            'rating_raw': rating_raw,\n",
    "            'full_text': tweet_text\n",
    "        })\n",
    "        \n",
    "# Convert Python List 'Dictionary' to Pandas DataFrame\n",
    "df_tweet_raw = pd.DataFrame(df_tweet_raw)"
   ]
  },
  {
   "cell_type": "code",
   "execution_count": 9,
   "metadata": {
    "scrolled": true
   },
   "outputs": [
    {
     "data": {
      "text/html": [
       "<div>\n",
       "<style scoped>\n",
       "    .dataframe tbody tr th:only-of-type {\n",
       "        vertical-align: middle;\n",
       "    }\n",
       "\n",
       "    .dataframe tbody tr th {\n",
       "        vertical-align: top;\n",
       "    }\n",
       "\n",
       "    .dataframe thead th {\n",
       "        text-align: right;\n",
       "    }\n",
       "</style>\n",
       "<table border=\"1\" class=\"dataframe\">\n",
       "  <thead>\n",
       "    <tr style=\"text-align: right;\">\n",
       "      <th></th>\n",
       "      <th>tweet_id</th>\n",
       "      <th>retweet_count</th>\n",
       "      <th>favorite_count</th>\n",
       "      <th>dog_stage</th>\n",
       "      <th>retweet</th>\n",
       "      <th>rating_raw</th>\n",
       "      <th>full_text</th>\n",
       "    </tr>\n",
       "  </thead>\n",
       "  <tbody>\n",
       "    <tr>\n",
       "      <th>964</th>\n",
       "      <td>750383411068534784</td>\n",
       "      <td>1309</td>\n",
       "      <td>5005</td>\n",
       "      <td>pupper</td>\n",
       "      <td>False</td>\n",
       "      <td>[9/10]</td>\n",
       "      <td>This is Zoe. She was trying to stealthily take...</td>\n",
       "    </tr>\n",
       "    <tr>\n",
       "      <th>559</th>\n",
       "      <td>802952499103731712</td>\n",
       "      <td>2336</td>\n",
       "      <td>10085</td>\n",
       "      <td>None</td>\n",
       "      <td>False</td>\n",
       "      <td>[12/10]</td>\n",
       "      <td>This is Marley. She's having a ruff day. Prett...</td>\n",
       "    </tr>\n",
       "  </tbody>\n",
       "</table>\n",
       "</div>"
      ],
      "text/plain": [
       "               tweet_id  retweet_count  favorite_count dog_stage  retweet  \\\n",
       "964  750383411068534784           1309            5005    pupper    False   \n",
       "559  802952499103731712           2336           10085      None    False   \n",
       "\n",
       "    rating_raw                                          full_text  \n",
       "964     [9/10]  This is Zoe. She was trying to stealthily take...  \n",
       "559    [12/10]  This is Marley. She's having a ruff day. Prett...  "
      ]
     },
     "execution_count": 9,
     "metadata": {},
     "output_type": "execute_result"
    }
   ],
   "source": [
    "# Check out how the \"df_tweet\" DataFrame turned out\n",
    "df_tweet_raw.sample(2)"
   ]
  },
  {
   "cell_type": "markdown",
   "metadata": {},
   "source": [
    "# 3. Assess Data\n",
    "<a id=\"assess\"></a>"
   ]
  },
  {
   "cell_type": "markdown",
   "metadata": {},
   "source": [
    "### 3.1 Observations\n",
    "<a id=\"observations\"></a>"
   ]
  },
  {
   "cell_type": "markdown",
   "metadata": {},
   "source": [
    "#### Initial Observations:\n",
    "- There are 2175 unique Tweet IDs, in \"tweet_data\", excluding retweets.\n",
    "- There are 2356 non-null values in the \"name\" column.\n",
    "- There are 181 \"retweeted...\" values three columns, there are retweets, which I don't want.\n",
    "- The 'timestamp' Dtype is an 'object' as opposed to a 'datetime' Dtype.\n",
    "- The 'tweet_id' column is an int64 Dtype.\n",
    "- Some of the dog names are not capitalized.\n",
    "- Visually, the type of dog \"doggo\", \"floofer\", etc is not listed for each dog.  Many rows are all listed as \"None\".\n",
    "- There are 97 'doggo' in the 'doggo' column.\n",
    "- There are 10 'floofer' in the 'floofer' column.\n",
    "- There are 257 'pupper' in the 'pupper' column.\n",
    "- There are 30 'puppo' in the 'puppo' column.\n",
    "\n",
    "#### Quality Issues:\n",
    "- [Q1] 'tweet_data_raw': Missing dog stage for a majority of tweets.\n",
    "- [Q2] 'tweet_data_raw': Contains retweets, which we don't want\n",
    "- [Q3] 'tweet_data_raw' & 'image_pred_raw': tweet_id column is an int64 Dtype.  Should be a string (object)\n",
    "- [Q4] 'tweet_data_raw': timestamp column is an object Dtype.  Should be a datetime Dtype.\n",
    "- [Q5] 'tweet_data_raw': Dog names, there are over 700 Dogs with the name \"None\", there are also dogs with odd names, like 'this' and 'old'\n",
    "- [Q6] 'image_pred_raw': In the columns that predict dog breed, there are many nonbreed words in there.  Examples: 'harp', 'chow', 'window_screen', etc\n",
    "- [Q7] 'tweet_data_raw': Some ratings are incorrect.  Tweet_id \"672248013293752320\" has 3 different ratings.  After check the full tweet text in the .txt file, I found there is one rating for a dog.  The other two ratings are for other species of mammels.  There are 33 tweets with 2 or more ratings.  I think I will have to check these individually to get accurate results.\n",
    "- [Q8] 'tweet_data_raw': Some of the ratings are incorrect, decimal values are not picked up correctly.  Also, convert them to floats.  See tweet_id \"786709082849828864\".\n",
    "\n",
    "\n",
    "#### Tidiness Issuses:\n",
    "- [T1] 'tweet_data_raw': The dog stage (which is a variable) is a column.  There should be one columns, with four different dog stages.\n",
    "- [T2] Different information is spread around different dataframes.  To clean this project up, combine dataframes so that informaiton is in a  single place.  But only take the useful/informative columns."
   ]
  },
  {
   "cell_type": "markdown",
   "metadata": {},
   "source": [
    "### 3.2 Assessment\n",
    "<a id=\"assessment\"></a>"
   ]
  },
  {
   "cell_type": "code",
   "execution_count": 10,
   "metadata": {},
   "outputs": [
    {
     "data": {
      "text/html": [
       "<div>\n",
       "<style scoped>\n",
       "    .dataframe tbody tr th:only-of-type {\n",
       "        vertical-align: middle;\n",
       "    }\n",
       "\n",
       "    .dataframe tbody tr th {\n",
       "        vertical-align: top;\n",
       "    }\n",
       "\n",
       "    .dataframe thead th {\n",
       "        text-align: right;\n",
       "    }\n",
       "</style>\n",
       "<table border=\"1\" class=\"dataframe\">\n",
       "  <thead>\n",
       "    <tr style=\"text-align: right;\">\n",
       "      <th></th>\n",
       "      <th>tweet_id</th>\n",
       "      <th>in_reply_to_status_id</th>\n",
       "      <th>in_reply_to_user_id</th>\n",
       "      <th>timestamp</th>\n",
       "      <th>source</th>\n",
       "      <th>text</th>\n",
       "      <th>retweeted_status_id</th>\n",
       "      <th>retweeted_status_user_id</th>\n",
       "      <th>retweeted_status_timestamp</th>\n",
       "      <th>expanded_urls</th>\n",
       "      <th>rating_numerator</th>\n",
       "      <th>rating_denominator</th>\n",
       "      <th>name</th>\n",
       "      <th>doggo</th>\n",
       "      <th>floofer</th>\n",
       "      <th>pupper</th>\n",
       "      <th>puppo</th>\n",
       "    </tr>\n",
       "  </thead>\n",
       "  <tbody>\n",
       "    <tr>\n",
       "      <th>1665</th>\n",
       "      <td>682750546109968385</td>\n",
       "      <td>NaN</td>\n",
       "      <td>NaN</td>\n",
       "      <td>2016-01-01 02:29:49 +0000</td>\n",
       "      <td>&lt;a href=\"http://twitter.com/download/iphone\" r...</td>\n",
       "      <td>Meet Taco. He's a speckled Garnier Fructis. Lo...</td>\n",
       "      <td>NaN</td>\n",
       "      <td>NaN</td>\n",
       "      <td>NaN</td>\n",
       "      <td>https://twitter.com/dog_rates/status/682750546...</td>\n",
       "      <td>9</td>\n",
       "      <td>10</td>\n",
       "      <td>Taco</td>\n",
       "      <td>None</td>\n",
       "      <td>None</td>\n",
       "      <td>None</td>\n",
       "      <td>None</td>\n",
       "    </tr>\n",
       "    <tr>\n",
       "      <th>2025</th>\n",
       "      <td>671882082306625538</td>\n",
       "      <td>NaN</td>\n",
       "      <td>NaN</td>\n",
       "      <td>2015-12-02 02:42:26 +0000</td>\n",
       "      <td>&lt;a href=\"http://twitter.com/download/iphone\" r...</td>\n",
       "      <td>This is Batdog. He's sleeping now but when he ...</td>\n",
       "      <td>NaN</td>\n",
       "      <td>NaN</td>\n",
       "      <td>NaN</td>\n",
       "      <td>https://twitter.com/dog_rates/status/671882082...</td>\n",
       "      <td>11</td>\n",
       "      <td>10</td>\n",
       "      <td>Batdog</td>\n",
       "      <td>None</td>\n",
       "      <td>None</td>\n",
       "      <td>None</td>\n",
       "      <td>None</td>\n",
       "    </tr>\n",
       "    <tr>\n",
       "      <th>2321</th>\n",
       "      <td>666435652385423360</td>\n",
       "      <td>NaN</td>\n",
       "      <td>NaN</td>\n",
       "      <td>2015-11-17 02:00:15 +0000</td>\n",
       "      <td>&lt;a href=\"http://twitter.com/download/iphone\" r...</td>\n",
       "      <td>\"Can you behave? You're ruining my wedding day...</td>\n",
       "      <td>NaN</td>\n",
       "      <td>NaN</td>\n",
       "      <td>NaN</td>\n",
       "      <td>https://twitter.com/dog_rates/status/666435652...</td>\n",
       "      <td>10</td>\n",
       "      <td>10</td>\n",
       "      <td>None</td>\n",
       "      <td>None</td>\n",
       "      <td>None</td>\n",
       "      <td>None</td>\n",
       "      <td>None</td>\n",
       "    </tr>\n",
       "  </tbody>\n",
       "</table>\n",
       "</div>"
      ],
      "text/plain": [
       "                tweet_id  in_reply_to_status_id  in_reply_to_user_id  \\\n",
       "1665  682750546109968385                    NaN                  NaN   \n",
       "2025  671882082306625538                    NaN                  NaN   \n",
       "2321  666435652385423360                    NaN                  NaN   \n",
       "\n",
       "                      timestamp  \\\n",
       "1665  2016-01-01 02:29:49 +0000   \n",
       "2025  2015-12-02 02:42:26 +0000   \n",
       "2321  2015-11-17 02:00:15 +0000   \n",
       "\n",
       "                                                 source  \\\n",
       "1665  <a href=\"http://twitter.com/download/iphone\" r...   \n",
       "2025  <a href=\"http://twitter.com/download/iphone\" r...   \n",
       "2321  <a href=\"http://twitter.com/download/iphone\" r...   \n",
       "\n",
       "                                                   text  retweeted_status_id  \\\n",
       "1665  Meet Taco. He's a speckled Garnier Fructis. Lo...                  NaN   \n",
       "2025  This is Batdog. He's sleeping now but when he ...                  NaN   \n",
       "2321  \"Can you behave? You're ruining my wedding day...                  NaN   \n",
       "\n",
       "      retweeted_status_user_id retweeted_status_timestamp  \\\n",
       "1665                       NaN                        NaN   \n",
       "2025                       NaN                        NaN   \n",
       "2321                       NaN                        NaN   \n",
       "\n",
       "                                          expanded_urls  rating_numerator  \\\n",
       "1665  https://twitter.com/dog_rates/status/682750546...                 9   \n",
       "2025  https://twitter.com/dog_rates/status/671882082...                11   \n",
       "2321  https://twitter.com/dog_rates/status/666435652...                10   \n",
       "\n",
       "      rating_denominator    name doggo floofer pupper puppo  \n",
       "1665                  10    Taco  None    None   None  None  \n",
       "2025                  10  Batdog  None    None   None  None  \n",
       "2321                  10    None  None    None   None  None  "
      ]
     },
     "execution_count": 10,
     "metadata": {},
     "output_type": "execute_result"
    }
   ],
   "source": [
    "# Examine the dataframe \"tweet_data_raw\"\n",
    "tweet_data_raw.sample(3)"
   ]
  },
  {
   "cell_type": "code",
   "execution_count": 11,
   "metadata": {},
   "outputs": [
    {
     "data": {
      "text/html": [
       "<div>\n",
       "<style scoped>\n",
       "    .dataframe tbody tr th:only-of-type {\n",
       "        vertical-align: middle;\n",
       "    }\n",
       "\n",
       "    .dataframe tbody tr th {\n",
       "        vertical-align: top;\n",
       "    }\n",
       "\n",
       "    .dataframe thead th {\n",
       "        text-align: right;\n",
       "    }\n",
       "</style>\n",
       "<table border=\"1\" class=\"dataframe\">\n",
       "  <thead>\n",
       "    <tr style=\"text-align: right;\">\n",
       "      <th></th>\n",
       "      <th>tweet_id</th>\n",
       "      <th>jpg_url</th>\n",
       "      <th>img_num</th>\n",
       "      <th>p1</th>\n",
       "      <th>p1_conf</th>\n",
       "      <th>p1_dog</th>\n",
       "      <th>p2</th>\n",
       "      <th>p2_conf</th>\n",
       "      <th>p2_dog</th>\n",
       "      <th>p3</th>\n",
       "      <th>p3_conf</th>\n",
       "      <th>p3_dog</th>\n",
       "    </tr>\n",
       "  </thead>\n",
       "  <tbody>\n",
       "    <tr>\n",
       "      <th>431</th>\n",
       "      <td>674271431610523648</td>\n",
       "      <td>https://pbs.twimg.com/media/CVt-SeMWwAAs9HH.jpg</td>\n",
       "      <td>1</td>\n",
       "      <td>German_shepherd</td>\n",
       "      <td>0.991454</td>\n",
       "      <td>True</td>\n",
       "      <td>malinois</td>\n",
       "      <td>0.004150</td>\n",
       "      <td>True</td>\n",
       "      <td>bloodhound</td>\n",
       "      <td>0.003019</td>\n",
       "      <td>True</td>\n",
       "    </tr>\n",
       "    <tr>\n",
       "      <th>348</th>\n",
       "      <td>672481316919734272</td>\n",
       "      <td>https://pbs.twimg.com/media/CVUiMUeW4AEQgkU.jpg</td>\n",
       "      <td>1</td>\n",
       "      <td>Border_collie</td>\n",
       "      <td>0.599454</td>\n",
       "      <td>True</td>\n",
       "      <td>collie</td>\n",
       "      <td>0.106227</td>\n",
       "      <td>True</td>\n",
       "      <td>Shetland_sheepdog</td>\n",
       "      <td>0.094465</td>\n",
       "      <td>True</td>\n",
       "    </tr>\n",
       "    <tr>\n",
       "      <th>1410</th>\n",
       "      <td>770655142660169732</td>\n",
       "      <td>https://pbs.twimg.com/media/CrHqwjWXgAAgJSe.jpg</td>\n",
       "      <td>1</td>\n",
       "      <td>Madagascar_cat</td>\n",
       "      <td>0.494803</td>\n",
       "      <td>False</td>\n",
       "      <td>skunk</td>\n",
       "      <td>0.161184</td>\n",
       "      <td>False</td>\n",
       "      <td>paper_towel</td>\n",
       "      <td>0.091572</td>\n",
       "      <td>False</td>\n",
       "    </tr>\n",
       "  </tbody>\n",
       "</table>\n",
       "</div>"
      ],
      "text/plain": [
       "                tweet_id                                          jpg_url  \\\n",
       "431   674271431610523648  https://pbs.twimg.com/media/CVt-SeMWwAAs9HH.jpg   \n",
       "348   672481316919734272  https://pbs.twimg.com/media/CVUiMUeW4AEQgkU.jpg   \n",
       "1410  770655142660169732  https://pbs.twimg.com/media/CrHqwjWXgAAgJSe.jpg   \n",
       "\n",
       "      img_num               p1   p1_conf  p1_dog        p2   p2_conf  p2_dog  \\\n",
       "431         1  German_shepherd  0.991454    True  malinois  0.004150    True   \n",
       "348         1    Border_collie  0.599454    True    collie  0.106227    True   \n",
       "1410        1   Madagascar_cat  0.494803   False     skunk  0.161184   False   \n",
       "\n",
       "                     p3   p3_conf  p3_dog  \n",
       "431          bloodhound  0.003019    True  \n",
       "348   Shetland_sheepdog  0.094465    True  \n",
       "1410        paper_towel  0.091572   False  "
      ]
     },
     "execution_count": 11,
     "metadata": {},
     "output_type": "execute_result"
    }
   ],
   "source": [
    "# Examine the dataframe \"image_pred_raw\"\n",
    "image_pred_raw.sample(3)"
   ]
  },
  {
   "cell_type": "code",
   "execution_count": 12,
   "metadata": {},
   "outputs": [
    {
     "data": {
      "text/html": [
       "<div>\n",
       "<style scoped>\n",
       "    .dataframe tbody tr th:only-of-type {\n",
       "        vertical-align: middle;\n",
       "    }\n",
       "\n",
       "    .dataframe tbody tr th {\n",
       "        vertical-align: top;\n",
       "    }\n",
       "\n",
       "    .dataframe thead th {\n",
       "        text-align: right;\n",
       "    }\n",
       "</style>\n",
       "<table border=\"1\" class=\"dataframe\">\n",
       "  <thead>\n",
       "    <tr style=\"text-align: right;\">\n",
       "      <th></th>\n",
       "      <th>tweet_id</th>\n",
       "      <th>retweet_count</th>\n",
       "      <th>favorite_count</th>\n",
       "      <th>dog_stage</th>\n",
       "      <th>retweet</th>\n",
       "      <th>rating_raw</th>\n",
       "      <th>full_text</th>\n",
       "    </tr>\n",
       "  </thead>\n",
       "  <tbody>\n",
       "    <tr>\n",
       "      <th>2202</th>\n",
       "      <td>668636665813057536</td>\n",
       "      <td>528</td>\n",
       "      <td>1114</td>\n",
       "      <td>None</td>\n",
       "      <td>False</td>\n",
       "      <td>[10/10]</td>\n",
       "      <td>This is an Irish Rigatoni terrier named Berta....</td>\n",
       "    </tr>\n",
       "    <tr>\n",
       "      <th>2310</th>\n",
       "      <td>666776908487630848</td>\n",
       "      <td>186</td>\n",
       "      <td>368</td>\n",
       "      <td>None</td>\n",
       "      <td>False</td>\n",
       "      <td>[5/10]</td>\n",
       "      <td>This is Josep. He is a Rye Manganese mix. Can ...</td>\n",
       "    </tr>\n",
       "    <tr>\n",
       "      <th>1577</th>\n",
       "      <td>687312378585812992</td>\n",
       "      <td>2146</td>\n",
       "      <td>4777</td>\n",
       "      <td>pupper</td>\n",
       "      <td>False</td>\n",
       "      <td>[7/10]</td>\n",
       "      <td>\"You got any games on your phone\" 7/10 for inv...</td>\n",
       "    </tr>\n",
       "  </tbody>\n",
       "</table>\n",
       "</div>"
      ],
      "text/plain": [
       "                tweet_id  retweet_count  favorite_count dog_stage  retweet  \\\n",
       "2202  668636665813057536            528            1114      None    False   \n",
       "2310  666776908487630848            186             368      None    False   \n",
       "1577  687312378585812992           2146            4777    pupper    False   \n",
       "\n",
       "     rating_raw                                          full_text  \n",
       "2202    [10/10]  This is an Irish Rigatoni terrier named Berta....  \n",
       "2310     [5/10]  This is Josep. He is a Rye Manganese mix. Can ...  \n",
       "1577     [7/10]  \"You got any games on your phone\" 7/10 for inv...  "
      ]
     },
     "execution_count": 12,
     "metadata": {},
     "output_type": "execute_result"
    }
   ],
   "source": [
    "# Exaime the dataframe \"df_tweet_raw\"\n",
    "df_tweet_raw.sample(3)"
   ]
  },
  {
   "cell_type": "code",
   "execution_count": 13,
   "metadata": {},
   "outputs": [
    {
     "name": "stdout",
     "output_type": "stream",
     "text": [
      "<class 'pandas.core.frame.DataFrame'>\n",
      "RangeIndex: 2356 entries, 0 to 2355\n",
      "Data columns (total 17 columns):\n",
      " #   Column                      Non-Null Count  Dtype  \n",
      "---  ------                      --------------  -----  \n",
      " 0   tweet_id                    2356 non-null   int64  \n",
      " 1   in_reply_to_status_id       78 non-null     float64\n",
      " 2   in_reply_to_user_id         78 non-null     float64\n",
      " 3   timestamp                   2356 non-null   object \n",
      " 4   source                      2356 non-null   object \n",
      " 5   text                        2356 non-null   object \n",
      " 6   retweeted_status_id         181 non-null    float64\n",
      " 7   retweeted_status_user_id    181 non-null    float64\n",
      " 8   retweeted_status_timestamp  181 non-null    object \n",
      " 9   expanded_urls               2297 non-null   object \n",
      " 10  rating_numerator            2356 non-null   int64  \n",
      " 11  rating_denominator          2356 non-null   int64  \n",
      " 12  name                        2356 non-null   object \n",
      " 13  doggo                       2356 non-null   object \n",
      " 14  floofer                     2356 non-null   object \n",
      " 15  pupper                      2356 non-null   object \n",
      " 16  puppo                       2356 non-null   object \n",
      "dtypes: float64(4), int64(3), object(10)\n",
      "memory usage: 313.0+ KB\n",
      "<class 'pandas.core.frame.DataFrame'>\n",
      "RangeIndex: 2075 entries, 0 to 2074\n",
      "Data columns (total 12 columns):\n",
      " #   Column    Non-Null Count  Dtype  \n",
      "---  ------    --------------  -----  \n",
      " 0   tweet_id  2075 non-null   int64  \n",
      " 1   jpg_url   2075 non-null   object \n",
      " 2   img_num   2075 non-null   int64  \n",
      " 3   p1        2075 non-null   object \n",
      " 4   p1_conf   2075 non-null   float64\n",
      " 5   p1_dog    2075 non-null   bool   \n",
      " 6   p2        2075 non-null   object \n",
      " 7   p2_conf   2075 non-null   float64\n",
      " 8   p2_dog    2075 non-null   bool   \n",
      " 9   p3        2075 non-null   object \n",
      " 10  p3_conf   2075 non-null   float64\n",
      " 11  p3_dog    2075 non-null   bool   \n",
      "dtypes: bool(3), float64(3), int64(2), object(4)\n",
      "memory usage: 152.1+ KB\n",
      "<class 'pandas.core.frame.DataFrame'>\n",
      "RangeIndex: 2354 entries, 0 to 2353\n",
      "Data columns (total 7 columns):\n",
      " #   Column          Non-Null Count  Dtype \n",
      "---  ------          --------------  ----- \n",
      " 0   tweet_id        2354 non-null   object\n",
      " 1   retweet_count   2354 non-null   int64 \n",
      " 2   favorite_count  2354 non-null   int64 \n",
      " 3   dog_stage       2354 non-null   object\n",
      " 4   retweet         2354 non-null   bool  \n",
      " 5   rating_raw      2354 non-null   object\n",
      " 6   full_text       2354 non-null   object\n",
      "dtypes: bool(1), int64(2), object(4)\n",
      "memory usage: 112.8+ KB\n"
     ]
    }
   ],
   "source": [
    "# Examine the .info() for each of the dataframes\n",
    "tweet_data_raw.info()\n",
    "image_pred_raw.info()\n",
    "df_tweet_raw.info()"
   ]
  },
  {
   "cell_type": "code",
   "execution_count": 14,
   "metadata": {},
   "outputs": [
    {
     "data": {
      "text/plain": [
       "None           745\n",
       "a               55\n",
       "Charlie         12\n",
       "Lucy            11\n",
       "Cooper          11\n",
       "              ... \n",
       "Grizzwald        1\n",
       "Gòrdón           1\n",
       "BeBe             1\n",
       "Suki             1\n",
       "Shakespeare      1\n",
       "Name: name, Length: 957, dtype: int64"
      ]
     },
     "execution_count": 14,
     "metadata": {},
     "output_type": "execute_result"
    }
   ],
   "source": [
    "# Examine some problem areas\n",
    "tweet_data_raw['name'].value_counts()"
   ]
  },
  {
   "cell_type": "code",
   "execution_count": 16,
   "metadata": {},
   "outputs": [
    {
     "name": "stdout",
     "output_type": "stream",
     "text": [
      "109\n",
      "745\n"
     ]
    }
   ],
   "source": [
    "# Check the name column out in \"tweet_data\"\n",
    "print( len(tweet_data_raw.loc[ tweet_data_raw['name'].str.islower(), 'name']) )\n",
    "print( len(tweet_data_raw.loc[ tweet_data_raw['name'] == 'None']) )"
   ]
  },
  {
   "cell_type": "code",
   "execution_count": 17,
   "metadata": {},
   "outputs": [
    {
     "data": {
      "text/plain": [
       "None     2259\n",
       "doggo      97\n",
       "Name: doggo, dtype: int64"
      ]
     },
     "execution_count": 17,
     "metadata": {},
     "output_type": "execute_result"
    }
   ],
   "source": [
    "# Examine some problem areas\n",
    "tweet_data_raw['doggo'].value_counts()"
   ]
  },
  {
   "cell_type": "code",
   "execution_count": 18,
   "metadata": {
    "scrolled": true
   },
   "outputs": [
    {
     "name": "stdout",
     "output_type": "stream",
     "text": [
      "54 ['17/10', '13/10'] None @roushfenway These are good dogs but 17/10 is an emotional impulse rating. More like 13/10s\n",
      "312 ['960/00', '13/10'] None @jonnysun @Lin_Manuel ok jomny I know you're excited but 960/00 isn't a valid rating, 13/10 is tho\n",
      "560 ['12/10', '11/10'] None RT @dog_rates: \"Yep... just as I suspected. You're not flossing.\" 12/10 and 11/10 for the pup not flossing https://t.co/SuXcI9B7pQ\n",
      "765 ['12/10', '11/10'] None \"Yep... just as I suspected. You're not flossing.\" 12/10 and 11/10 for the pup not flossing https://t.co/SuXcI9B7pQ\n",
      "783 ['9/11', '14/10'] None RT @dog_rates: After so many requests, this is Bretagne. She was the last surviving 9/11 search dog, and our second ever 14/10. RIP https:/…\n",
      "858 ['8/10', '11/10'] pupper RT @dog_rates: Meet Eve. She's a raging alcoholic 8/10 (would b 11/10 but pupper alcoholism is a tragic issue that I can't condone) https:/…\n",
      "1005 ['10/10', '7/10'] None This is Bookstore and Seaweed. Bookstore is tired and Seaweed is an asshole. 10/10 and 7/10 respectively https://t.co/eUGjGjjFVJ\n",
      "1066 ['9/11', '14/10'] None After so many requests, this is Bretagne. She was the last surviving 9/11 search dog, and our second ever 14/10. RIP https://t.co/XAVDNDaVgQ\n",
      "1163 ['4/20', '13/10'] None Happy 4/20 from the squad! 13/10 for all https://t.co/eV1diwds8a\n",
      "1200 ['50/50', '11/10'] None This is Bluebert. He just saw that both #FinalFur match ups are split 50/50. Amazed af. 11/10 https://t.co/Kky1DPG4iq\n",
      "1220 ['10/10', '8/10'] None Meet Travis and Flurp. Travis is pretty chill but Flurp can't lie down properly. 10/10 &amp; 8/10\n",
      "get it together Flurp https://t.co/Akzl5ynMmE\n",
      "1357 ['9/10', '2/10'] None This is Socks. That water pup w the super legs just splashed him. Socks did not appreciate that. 9/10 and 2/10 https://t.co/8rc5I22bBf\n",
      "1457 ['4/10', '13/10'] None This may be the greatest video I've ever been sent. 4/10 for Charles the puppy, 13/10 overall. (Vid by @stevenxx_) https://t.co/uaJmNgXR2P\n",
      "1463 ['10/10', '5/10'] None Meet Oliviér. He takes killer selfies. Has a dog of his own. It leaps at random &amp; can't bark for shit. 10/10 &amp; 5/10 https://t.co/6NgsQJuSBJ\n",
      "1506 ['5/10', '10/10'] None When bae says they can't go out but you see them with someone else that same night. 5/10 &amp; 10/10 for heartbroken pup https://t.co/aenk0KpoWM\n",
      "1523 ['10/10', '6/10'] None This is Eriq. His friend just reminded him of last year's super bowl. Not cool friend\n",
      "10/10 for Eriq\n",
      "6/10 for friend https://t.co/PlEXTofdpf\n",
      "1536 ['11/10', '10/10'] None Meet Fynn &amp; Taco. Fynn is an all-powerful leaf lord and Taco is in the wrong place at the wrong time. 11/10 &amp; 10/10 https://t.co/MuqHPvtL8c\n",
      "1660 ['7/11', '10/10'] None This is Darrel. He just robbed a 7/11 and is in a high speed police chase. Was just spotted by the helicopter 10/10 https://t.co/7EsP8LmSp5\n",
      "1793 ['10/10', '11/10'] None Meet Tassy &amp; Bee. Tassy is pretty chill, but Bee is convinced the Ruffles are haunted. 10/10 &amp; 11/10 respectively https://t.co/fgORpmTN9C\n",
      "1830 ['10/10', '7/10'] None These two pups just met and have instantly bonded. Spectacular scene. Mesmerizing af. 10/10 and 7/10 for blue dog https://t.co/gwryaJO4tC\n",
      "1895 ['10/10', '4/10'] pupper Meet Rufio. He is unaware of the pink legless pupper wrapped around him. Might want to get that checked 10/10 &amp; 4/10 https://t.co/KNfLnYPmYh\n",
      "1899 ['5/10', '8/10'] None Two gorgeous dogs here. Little waddling dog is a rebel. Refuses to look at camera. Must be a preteen. 5/10 &amp; 8/10 https://t.co/YPfw7oahbD\n",
      "1968 ['8/10', '11/10'] pupper Meet Eve. She's a raging alcoholic 8/10 (would b 11/10 but pupper alcoholism is a tragic issue that I can't condone) https://t.co/U36HYQIijg\n",
      "2008 ['10/10', '7/10', '12/10'] None 10/10 for dog. 7/10 for cat. 12/10 for human. Much skill. Would pet all https://t.co/uhx5gfpx5k\n",
      "2062 ['11/10', '8/10'] None Meet Holly. She's trying to teach small human-like pup about blocks but he's not paying attention smh. 11/10 &amp; 8/10 https://t.co/RcksaUrGNu\n",
      "2111 ['11/10', '8/10'] None Meet Hank and Sully. Hank is very proud of the pumpkin they found and Sully doesn't give a shit. 11/10 and 8/10 https://t.co/cwoP1ftbrj\n",
      "2175 ['10/10', '7/10'] None Here we have Pancho and Peaches. Pancho is a Condoleezza Gryffindor, and Peaches is just an asshole. 10/10 &amp; 7/10 https://t.co/Lh1BsJrWPp\n",
      "2214 ['8/10', '1/10'] None This is Spark. He's nervous. Other dog hasn't moved in a while. Won't come when called. Doesn't fetch well 8/10&amp;1/10 https://t.co/stEodX9Aba\n",
      "2261 ['10/10', '4/10'] None This is Kial. Kial is either wearing a cape, which would be rad, or flashing us, which would be rude. 10/10 or 4/10 https://t.co/8zcwIoiuqR\n",
      "2270 ['7/10', '8/10'] None Two dogs in this one. Both are rare Jujitsu Pythagoreans. One slightly whiter than other. Long legs. 7/10 and 8/10 https://t.co/ITxxcc4v9y\n",
      "2296 ['10/10', '10/10'] None After much debate this dog is being upgraded to 10/10. I repeat 10/10\n",
      "2304 ['10/10', '10/10'] None These are Peruvian Feldspars. Their names are Cupit and Prencer. Both resemble Rand Paul. Sick outfits 10/10 &amp; 10/10 https://t.co/ZnEMHBsAs1\n",
      "2333 ['1/2', '9/10'] None This is an Albanian 3 1/2 legged  Episcopalian. Loves well-polished hardwood flooring. Penis on the collar. 9/10 https://t.co/d9NcXFKwLv\n",
      "33\n"
     ]
    }
   ],
   "source": [
    "# Some tweets have multiple ratings or values that look like ratings.\n",
    "# To get accurate ratings data, the below code prints out every tweet with 2+ ratings.\n",
    "# I will go through these manually (I can't think of a way progammatically to do this) and\n",
    "# correct the values.\n",
    "counter = 0\n",
    "for item in range(len(df_tweet_raw['rating_raw'])):\n",
    "    x = len(df_tweet_raw['rating_raw'].iloc[item])\n",
    "    if x == 1:\n",
    "        pass\n",
    "    elif x > 1:\n",
    "        counter += 1\n",
    "        print(item, \n",
    "              df_tweet_raw['rating_raw'].iloc[item], \n",
    "              df_tweet_raw['dog_stage'].iloc[item], \n",
    "              df_tweet_raw['full_text'].iloc[item] )\n",
    "print(counter)"
   ]
  },
  {
   "cell_type": "markdown",
   "metadata": {},
   "source": [
    "# 4. Clean Data\n",
    "<a id=\"clean_data\"></a>"
   ]
  },
  {
   "cell_type": "code",
   "execution_count": 19,
   "metadata": {},
   "outputs": [],
   "source": [
    "# Make copies of all three dataframes\n",
    "tweet_data = tweet_data_raw.copy()\n",
    "image_pred = image_pred_raw.copy()\n",
    "df_tweet = df_tweet_raw.copy()"
   ]
  },
  {
   "cell_type": "markdown",
   "metadata": {},
   "source": [
    "### 4.1 Quality Issue 1: Missing \"dog_stage\" for many entries\n",
    "<a id=\"qi_1\"></a>"
   ]
  },
  {
   "cell_type": "markdown",
   "metadata": {},
   "source": [
    "#####  DEFINE Quality Issue 1"
   ]
  },
  {
   "cell_type": "markdown",
   "metadata": {},
   "source": [
    "In \"tweet_data\", many entries have missing \"dog_stage\" entries.  Many are listed as \"None\"."
   ]
  },
  {
   "cell_type": "markdown",
   "metadata": {},
   "source": [
    "##### CODE Quality Issue 1"
   ]
  },
  {
   "cell_type": "code",
   "execution_count": 20,
   "metadata": {},
   "outputs": [],
   "source": [
    "# Gathering \"dog_stage\" information is completed while reading the \"tweet-json.txt\" file.\n",
    "\n",
    "# There are also entries that contain more than 1 dog stage.  I will keep these.\n",
    "df_tweet.loc[ df_tweet['dog_stage'] == 'pupperdoggo', 'dog_stage' ] = 'doggo,pupper'\n",
    "df_tweet.loc[ df_tweet['dog_stage'] == 'doggopuppo', 'dog_stage' ] = 'doggo,puppo'\n",
    "df_tweet.loc[ df_tweet['dog_stage'] == 'doggofloofer', 'dog_stage' ] = 'doggo,floofer'"
   ]
  },
  {
   "cell_type": "code",
   "execution_count": 21,
   "metadata": {},
   "outputs": [],
   "source": [
    "# Change values of \"None\" to null values\n",
    "df_tweet.loc[ df_tweet['dog_stage'] == 'None', 'dog_stage'] = np.NaN"
   ]
  },
  {
   "cell_type": "markdown",
   "metadata": {},
   "source": [
    "##### TEST Quality Issue 1"
   ]
  },
  {
   "cell_type": "code",
   "execution_count": 22,
   "metadata": {},
   "outputs": [
    {
     "name": "stdout",
     "output_type": "stream",
     "text": [
      "pupper           270\n",
      "doggo             92\n",
      "puppo             36\n",
      "doggo,pupper      12\n",
      "floofer            9\n",
      "doggo,puppo        2\n",
      "doggo,floofer      1\n",
      "Name: dog_stage, dtype: int64\n",
      "422\n"
     ]
    }
   ],
   "source": [
    "print( df_tweet['dog_stage'].value_counts() )\n",
    "x = 270 + 92 + 36 + 12 + 9 + 2 + 1\n",
    "print(x)\n",
    "# There are 422 tweets with listed dog stages"
   ]
  },
  {
   "cell_type": "code",
   "execution_count": 23,
   "metadata": {},
   "outputs": [
    {
     "data": {
      "text/plain": [
       "0"
      ]
     },
     "execution_count": 23,
     "metadata": {},
     "output_type": "execute_result"
    }
   ],
   "source": [
    "len( df_tweet[ df_tweet['dog_stage'] == 'None' ] )\n",
    "# There are 0 dogs with stage 'None' now."
   ]
  },
  {
   "cell_type": "markdown",
   "metadata": {},
   "source": [
    "### 4.2 Quality Issue 2: Get rid of retweets\n",
    "<a id=\"qi_2\"></a>"
   ]
  },
  {
   "cell_type": "markdown",
   "metadata": {},
   "source": [
    "##### DEFINE Quality Issue 2"
   ]
  },
  {
   "cell_type": "markdown",
   "metadata": {},
   "source": [
    "The dataframe \"tweet_data\" contains retweets, which we don't want."
   ]
  },
  {
   "cell_type": "markdown",
   "metadata": {},
   "source": [
    "##### CODE Quality Issue 2"
   ]
  },
  {
   "cell_type": "code",
   "execution_count": 24,
   "metadata": {},
   "outputs": [],
   "source": [
    "tweet_data = tweet_data[ tweet_data['retweeted_status_id'].isnull() == True ]"
   ]
  },
  {
   "cell_type": "markdown",
   "metadata": {},
   "source": [
    "##### TEST Quality Issue 2"
   ]
  },
  {
   "cell_type": "code",
   "execution_count": 25,
   "metadata": {},
   "outputs": [
    {
     "name": "stdout",
     "output_type": "stream",
     "text": [
      "<class 'pandas.core.frame.DataFrame'>\n",
      "Int64Index: 2175 entries, 0 to 2355\n",
      "Data columns (total 17 columns):\n",
      " #   Column                      Non-Null Count  Dtype  \n",
      "---  ------                      --------------  -----  \n",
      " 0   tweet_id                    2175 non-null   int64  \n",
      " 1   in_reply_to_status_id       78 non-null     float64\n",
      " 2   in_reply_to_user_id         78 non-null     float64\n",
      " 3   timestamp                   2175 non-null   object \n",
      " 4   source                      2175 non-null   object \n",
      " 5   text                        2175 non-null   object \n",
      " 6   retweeted_status_id         0 non-null      float64\n",
      " 7   retweeted_status_user_id    0 non-null      float64\n",
      " 8   retweeted_status_timestamp  0 non-null      object \n",
      " 9   expanded_urls               2117 non-null   object \n",
      " 10  rating_numerator            2175 non-null   int64  \n",
      " 11  rating_denominator          2175 non-null   int64  \n",
      " 12  name                        2175 non-null   object \n",
      " 13  doggo                       2175 non-null   object \n",
      " 14  floofer                     2175 non-null   object \n",
      " 15  pupper                      2175 non-null   object \n",
      " 16  puppo                       2175 non-null   object \n",
      "dtypes: float64(4), int64(3), object(10)\n",
      "memory usage: 305.9+ KB\n"
     ]
    }
   ],
   "source": [
    "tweet_data.info()"
   ]
  },
  {
   "cell_type": "markdown",
   "metadata": {},
   "source": [
    "### 4.3 Quality Issue 3: Change datatypes for \"tweet_id\"\n",
    "<a id=\"qi_3\"></a>"
   ]
  },
  {
   "cell_type": "markdown",
   "metadata": {},
   "source": [
    "##### DEFINE Quality Issue 3"
   ]
  },
  {
   "cell_type": "markdown",
   "metadata": {},
   "source": [
    "The columns \"tweet_id\" in the dataframes \"tweet_data\" and \"image_pred\" are \"int\" datatypes.  They should be \"str\" datatypes."
   ]
  },
  {
   "cell_type": "markdown",
   "metadata": {},
   "source": [
    "##### CODE Quality Issue 3"
   ]
  },
  {
   "cell_type": "code",
   "execution_count": 26,
   "metadata": {},
   "outputs": [],
   "source": [
    "tweet_data['tweet_id'] = tweet_data['tweet_id'].astype(str)\n",
    "image_pred['tweet_id'] = image_pred['tweet_id'].astype(str)"
   ]
  },
  {
   "cell_type": "markdown",
   "metadata": {},
   "source": [
    "##### TEST Quality Issue 3"
   ]
  },
  {
   "cell_type": "code",
   "execution_count": 27,
   "metadata": {},
   "outputs": [
    {
     "name": "stdout",
     "output_type": "stream",
     "text": [
      "<class 'pandas.core.frame.DataFrame'>\n",
      "Int64Index: 2175 entries, 0 to 2355\n",
      "Data columns (total 17 columns):\n",
      " #   Column                      Non-Null Count  Dtype  \n",
      "---  ------                      --------------  -----  \n",
      " 0   tweet_id                    2175 non-null   object \n",
      " 1   in_reply_to_status_id       78 non-null     float64\n",
      " 2   in_reply_to_user_id         78 non-null     float64\n",
      " 3   timestamp                   2175 non-null   object \n",
      " 4   source                      2175 non-null   object \n",
      " 5   text                        2175 non-null   object \n",
      " 6   retweeted_status_id         0 non-null      float64\n",
      " 7   retweeted_status_user_id    0 non-null      float64\n",
      " 8   retweeted_status_timestamp  0 non-null      object \n",
      " 9   expanded_urls               2117 non-null   object \n",
      " 10  rating_numerator            2175 non-null   int64  \n",
      " 11  rating_denominator          2175 non-null   int64  \n",
      " 12  name                        2175 non-null   object \n",
      " 13  doggo                       2175 non-null   object \n",
      " 14  floofer                     2175 non-null   object \n",
      " 15  pupper                      2175 non-null   object \n",
      " 16  puppo                       2175 non-null   object \n",
      "dtypes: float64(4), int64(2), object(11)\n",
      "memory usage: 305.9+ KB\n",
      "<class 'pandas.core.frame.DataFrame'>\n",
      "RangeIndex: 2075 entries, 0 to 2074\n",
      "Data columns (total 12 columns):\n",
      " #   Column    Non-Null Count  Dtype  \n",
      "---  ------    --------------  -----  \n",
      " 0   tweet_id  2075 non-null   object \n",
      " 1   jpg_url   2075 non-null   object \n",
      " 2   img_num   2075 non-null   int64  \n",
      " 3   p1        2075 non-null   object \n",
      " 4   p1_conf   2075 non-null   float64\n",
      " 5   p1_dog    2075 non-null   bool   \n",
      " 6   p2        2075 non-null   object \n",
      " 7   p2_conf   2075 non-null   float64\n",
      " 8   p2_dog    2075 non-null   bool   \n",
      " 9   p3        2075 non-null   object \n",
      " 10  p3_conf   2075 non-null   float64\n",
      " 11  p3_dog    2075 non-null   bool   \n",
      "dtypes: bool(3), float64(3), int64(1), object(5)\n",
      "memory usage: 152.1+ KB\n"
     ]
    }
   ],
   "source": [
    "tweet_data.info()\n",
    "image_pred.info()\n",
    "# The column \"tweet_id\" is now an \"object\" in the column \"Dtype\""
   ]
  },
  {
   "cell_type": "markdown",
   "metadata": {},
   "source": [
    "### 4.4 Quality Issue 4: Wrong datatype for time\n",
    "<a id=\"qi_4\"></a>"
   ]
  },
  {
   "cell_type": "markdown",
   "metadata": {},
   "source": [
    "##### DEFINE Quality Issue 4"
   ]
  },
  {
   "cell_type": "markdown",
   "metadata": {},
   "source": [
    "In the dataframe \"tweet_data\", the column \"timestamp\" is listed as an \"object\", but it should be a dedicated time datatype."
   ]
  },
  {
   "cell_type": "markdown",
   "metadata": {},
   "source": [
    "##### CODE Quality Issue 4"
   ]
  },
  {
   "cell_type": "code",
   "execution_count": 28,
   "metadata": {},
   "outputs": [],
   "source": [
    "tweet_data['timestamp'] = pd.to_datetime(tweet_data['timestamp'])"
   ]
  },
  {
   "cell_type": "markdown",
   "metadata": {},
   "source": [
    "##### TEST Quality Issue 4"
   ]
  },
  {
   "cell_type": "code",
   "execution_count": 29,
   "metadata": {},
   "outputs": [
    {
     "name": "stdout",
     "output_type": "stream",
     "text": [
      "<class 'pandas.core.frame.DataFrame'>\n",
      "Int64Index: 2175 entries, 0 to 2355\n",
      "Data columns (total 17 columns):\n",
      " #   Column                      Non-Null Count  Dtype              \n",
      "---  ------                      --------------  -----              \n",
      " 0   tweet_id                    2175 non-null   object             \n",
      " 1   in_reply_to_status_id       78 non-null     float64            \n",
      " 2   in_reply_to_user_id         78 non-null     float64            \n",
      " 3   timestamp                   2175 non-null   datetime64[ns, UTC]\n",
      " 4   source                      2175 non-null   object             \n",
      " 5   text                        2175 non-null   object             \n",
      " 6   retweeted_status_id         0 non-null      float64            \n",
      " 7   retweeted_status_user_id    0 non-null      float64            \n",
      " 8   retweeted_status_timestamp  0 non-null      object             \n",
      " 9   expanded_urls               2117 non-null   object             \n",
      " 10  rating_numerator            2175 non-null   int64              \n",
      " 11  rating_denominator          2175 non-null   int64              \n",
      " 12  name                        2175 non-null   object             \n",
      " 13  doggo                       2175 non-null   object             \n",
      " 14  floofer                     2175 non-null   object             \n",
      " 15  pupper                      2175 non-null   object             \n",
      " 16  puppo                       2175 non-null   object             \n",
      "dtypes: datetime64[ns, UTC](1), float64(4), int64(2), object(10)\n",
      "memory usage: 305.9+ KB\n"
     ]
    }
   ],
   "source": [
    "tweet_data.info()\n",
    "# The \"Dtype\" for the column \"timestamp\" is now \"datetime64\""
   ]
  },
  {
   "cell_type": "markdown",
   "metadata": {},
   "source": [
    "### 4.5 Quality Issue 5: Wrong dog names\n",
    "<a id=\"qi_5\"></a>"
   ]
  },
  {
   "cell_type": "markdown",
   "metadata": {},
   "source": [
    "##### DEFINE Quality Issue 5"
   ]
  },
  {
   "cell_type": "markdown",
   "metadata": {},
   "source": [
    "In the dataframe \"tweet_data\", the \"name\" column contains values that are wrong.  Such as \"None\" or nonsensical lower case names."
   ]
  },
  {
   "cell_type": "markdown",
   "metadata": {},
   "source": [
    "##### CODE Quality Issue 5"
   ]
  },
  {
   "cell_type": "code",
   "execution_count": 30,
   "metadata": {},
   "outputs": [],
   "source": [
    "tweet_data.loc[ tweet_data['name'].str.islower(), 'name'] = ''\n",
    "tweet_data['name'] = tweet_data['name'].replace('None', np.NaN)\n",
    "tweet_data['name'] = tweet_data['name'].replace('', np.NaN)"
   ]
  },
  {
   "cell_type": "markdown",
   "metadata": {},
   "source": [
    "##### TEST Quality Issue 5"
   ]
  },
  {
   "cell_type": "code",
   "execution_count": 31,
   "metadata": {},
   "outputs": [
    {
     "name": "stdout",
     "output_type": "stream",
     "text": [
      "<class 'pandas.core.frame.DataFrame'>\n",
      "Int64Index: 2175 entries, 0 to 2355\n",
      "Data columns (total 17 columns):\n",
      " #   Column                      Non-Null Count  Dtype              \n",
      "---  ------                      --------------  -----              \n",
      " 0   tweet_id                    2175 non-null   object             \n",
      " 1   in_reply_to_status_id       78 non-null     float64            \n",
      " 2   in_reply_to_user_id         78 non-null     float64            \n",
      " 3   timestamp                   2175 non-null   datetime64[ns, UTC]\n",
      " 4   source                      2175 non-null   object             \n",
      " 5   text                        2175 non-null   object             \n",
      " 6   retweeted_status_id         0 non-null      float64            \n",
      " 7   retweeted_status_user_id    0 non-null      float64            \n",
      " 8   retweeted_status_timestamp  0 non-null      object             \n",
      " 9   expanded_urls               2117 non-null   object             \n",
      " 10  rating_numerator            2175 non-null   int64              \n",
      " 11  rating_denominator          2175 non-null   int64              \n",
      " 12  name                        1391 non-null   object             \n",
      " 13  doggo                       2175 non-null   object             \n",
      " 14  floofer                     2175 non-null   object             \n",
      " 15  pupper                      2175 non-null   object             \n",
      " 16  puppo                       2175 non-null   object             \n",
      "dtypes: datetime64[ns, UTC](1), float64(4), int64(2), object(10)\n",
      "memory usage: 305.9+ KB\n"
     ]
    }
   ],
   "source": [
    "tweet_data.info()\n",
    "# 1391 existing names + 784 removed names = 2175 total enties.  Invalid names were correcly removed"
   ]
  },
  {
   "cell_type": "markdown",
   "metadata": {},
   "source": [
    "### 4.6 Quality Issue 6: Nonsensical dog breeds\n",
    "<a id=\"qi_6\"></a>"
   ]
  },
  {
   "cell_type": "markdown",
   "metadata": {},
   "source": [
    "##### DEFINE Quality Issue 6"
   ]
  },
  {
   "cell_type": "markdown",
   "metadata": {},
   "source": [
    "There are words that are not dog breeds that are listed in the dog breeds section of the \"image_pred\" dataframe. Examples are 'harp', 'chow', and 'window_screen'. "
   ]
  },
  {
   "cell_type": "markdown",
   "metadata": {},
   "source": [
    "##### CODE Quality Issue 6"
   ]
  },
  {
   "cell_type": "code",
   "execution_count": 32,
   "metadata": {},
   "outputs": [],
   "source": [
    "image_pred = image_pred[(image_pred['p1_dog'] == True) | \n",
    "                        (image_pred['p2_dog'] == True) | \n",
    "                        (image_pred['p3_dog'] == True) ]"
   ]
  },
  {
   "cell_type": "markdown",
   "metadata": {},
   "source": [
    "##### TEST Quality Issue 6"
   ]
  },
  {
   "cell_type": "code",
   "execution_count": 33,
   "metadata": {},
   "outputs": [
    {
     "data": {
      "text/html": [
       "<div>\n",
       "<style scoped>\n",
       "    .dataframe tbody tr th:only-of-type {\n",
       "        vertical-align: middle;\n",
       "    }\n",
       "\n",
       "    .dataframe tbody tr th {\n",
       "        vertical-align: top;\n",
       "    }\n",
       "\n",
       "    .dataframe thead th {\n",
       "        text-align: right;\n",
       "    }\n",
       "</style>\n",
       "<table border=\"1\" class=\"dataframe\">\n",
       "  <thead>\n",
       "    <tr style=\"text-align: right;\">\n",
       "      <th></th>\n",
       "      <th>tweet_id</th>\n",
       "      <th>jpg_url</th>\n",
       "      <th>img_num</th>\n",
       "      <th>p1</th>\n",
       "      <th>p1_conf</th>\n",
       "      <th>p1_dog</th>\n",
       "      <th>p2</th>\n",
       "      <th>p2_conf</th>\n",
       "      <th>p2_dog</th>\n",
       "      <th>p3</th>\n",
       "      <th>p3_conf</th>\n",
       "      <th>p3_dog</th>\n",
       "    </tr>\n",
       "  </thead>\n",
       "  <tbody>\n",
       "  </tbody>\n",
       "</table>\n",
       "</div>"
      ],
      "text/plain": [
       "Empty DataFrame\n",
       "Columns: [tweet_id, jpg_url, img_num, p1, p1_conf, p1_dog, p2, p2_conf, p2_dog, p3, p3_conf, p3_dog]\n",
       "Index: []"
      ]
     },
     "execution_count": 33,
     "metadata": {},
     "output_type": "execute_result"
    }
   ],
   "source": [
    "image_pred[(image_pred['p1_dog'] == False) & \n",
    "           (image_pred['p2_dog'] == False) &\n",
    "           (image_pred['p3_dog'] == False) ]\n",
    "# Great.  It's empty, all values successfully removed."
   ]
  },
  {
   "cell_type": "markdown",
   "metadata": {},
   "source": [
    "### 4.7 Quality Issue 7: Dogs with multiple ratings\n",
    "<a id=\"qi_7\"></a>"
   ]
  },
  {
   "cell_type": "markdown",
   "metadata": {},
   "source": [
    "##### DEFINE Quality Issue 7"
   ]
  },
  {
   "cell_type": "markdown",
   "metadata": {},
   "source": [
    "In \"df_tweet\" there are multiple legitimate looking  ratings.  Some include multiple dogs or non-dog animals"
   ]
  },
  {
   "cell_type": "markdown",
   "metadata": {},
   "source": [
    "##### CODE Quality Issue 7"
   ]
  },
  {
   "cell_type": "code",
   "execution_count": 34,
   "metadata": {
    "scrolled": true
   },
   "outputs": [
    {
     "name": "stdout",
     "output_type": "stream",
     "text": [
      "54 ['17/10', '13/10'] 881633300179243008 @roushfenway These are good dogs but 17/10 is an emotional impulse rating. More like 13/10s\n",
      "312 ['960/00', '13/10'] 835246439529840640 @jonnysun @Lin_Manuel ok jomny I know you're excited but 960/00 isn't a valid rating, 13/10 is tho\n",
      "560 ['12/10', '11/10'] 802624713319034886 RT @dog_rates: \"Yep... just as I suspected. You're not flossing.\" 12/10 and 11/10 for the pup not flossing https://t.co/SuXcI9B7pQ\n",
      "765 ['12/10', '11/10'] 777684233540206592 \"Yep... just as I suspected. You're not flossing.\" 12/10 and 11/10 for the pup not flossing https://t.co/SuXcI9B7pQ\n",
      "783 ['9/11', '14/10'] 775096608509886464 RT @dog_rates: After so many requests, this is Bretagne. She was the last surviving 9/11 search dog, and our second ever 14/10. RIP https:/…\n",
      "858 ['8/10', '11/10'] 763167063695355904 RT @dog_rates: Meet Eve. She's a raging alcoholic 8/10 (would b 11/10 but pupper alcoholism is a tragic issue that I can't condone) https:/…\n",
      "1005 ['10/10', '7/10'] 747600769478692864 This is Bookstore and Seaweed. Bookstore is tired and Seaweed is an asshole. 10/10 and 7/10 respectively https://t.co/eUGjGjjFVJ\n",
      "1066 ['9/11', '14/10'] 740373189193256964 After so many requests, this is Bretagne. She was the last surviving 9/11 search dog, and our second ever 14/10. RIP https://t.co/XAVDNDaVgQ\n",
      "1163 ['4/20', '13/10'] 722974582966214656 Happy 4/20 from the squad! 13/10 for all https://t.co/eV1diwds8a\n",
      "1200 ['50/50', '11/10'] 716439118184652801 This is Bluebert. He just saw that both #FinalFur match ups are split 50/50. Amazed af. 11/10 https://t.co/Kky1DPG4iq\n",
      "1220 ['10/10', '8/10'] 714258258790387713 Meet Travis and Flurp. Travis is pretty chill but Flurp can't lie down properly. 10/10 &amp; 8/10\n",
      "get it together Flurp https://t.co/Akzl5ynMmE\n",
      "1357 ['9/10', '2/10'] 703356393781329922 This is Socks. That water pup w the super legs just splashed him. Socks did not appreciate that. 9/10 and 2/10 https://t.co/8rc5I22bBf\n",
      "1457 ['4/10', '13/10'] 695064344191721472 This may be the greatest video I've ever been sent. 4/10 for Charles the puppy, 13/10 overall. (Vid by @stevenxx_) https://t.co/uaJmNgXR2P\n",
      "1463 ['10/10', '5/10'] 694352839993344000 Meet Oliviér. He takes killer selfies. Has a dog of his own. It leaps at random &amp; can't bark for shit. 10/10 &amp; 5/10 https://t.co/6NgsQJuSBJ\n",
      "1506 ['5/10', '10/10'] 691483041324204033 When bae says they can't go out but you see them with someone else that same night. 5/10 &amp; 10/10 for heartbroken pup https://t.co/aenk0KpoWM\n",
      "1523 ['10/10', '6/10'] 690400367696297985 This is Eriq. His friend just reminded him of last year's super bowl. Not cool friend\n",
      "10/10 for Eriq\n",
      "6/10 for friend https://t.co/PlEXTofdpf\n",
      "1536 ['11/10', '10/10'] 689835978131935233 Meet Fynn &amp; Taco. Fynn is an all-powerful leaf lord and Taco is in the wrong place at the wrong time. 11/10 &amp; 10/10 https://t.co/MuqHPvtL8c\n",
      "1660 ['7/11', '10/10'] 682962037429899265 This is Darrel. He just robbed a 7/11 and is in a high speed police chase. Was just spotted by the helicopter 10/10 https://t.co/7EsP8LmSp5\n",
      "1793 ['10/10', '11/10'] 677314812125323265 Meet Tassy &amp; Bee. Tassy is pretty chill, but Bee is convinced the Ruffles are haunted. 10/10 &amp; 11/10 respectively https://t.co/fgORpmTN9C\n",
      "1830 ['10/10', '7/10'] 676191832485810177 These two pups just met and have instantly bonded. Spectacular scene. Mesmerizing af. 10/10 and 7/10 for blue dog https://t.co/gwryaJO4tC\n",
      "1895 ['10/10', '4/10'] 674737130913071104 Meet Rufio. He is unaware of the pink legless pupper wrapped around him. Might want to get that checked 10/10 &amp; 4/10 https://t.co/KNfLnYPmYh\n",
      "1899 ['5/10', '8/10'] 674646392044941312 Two gorgeous dogs here. Little waddling dog is a rebel. Refuses to look at camera. Must be a preteen. 5/10 &amp; 8/10 https://t.co/YPfw7oahbD\n",
      "1968 ['8/10', '11/10'] 673295268553605120 Meet Eve. She's a raging alcoholic 8/10 (would b 11/10 but pupper alcoholism is a tragic issue that I can't condone) https://t.co/U36HYQIijg\n",
      "2008 ['10/10', '7/10', '12/10'] 672248013293752320 10/10 for dog. 7/10 for cat. 12/10 for human. Much skill. Would pet all https://t.co/uhx5gfpx5k\n",
      "2062 ['11/10', '8/10'] 671154572044468225 Meet Holly. She's trying to teach small human-like pup about blocks but he's not paying attention smh. 11/10 &amp; 8/10 https://t.co/RcksaUrGNu\n",
      "2111 ['11/10', '8/10'] 670434127938719744 Meet Hank and Sully. Hank is very proud of the pumpkin they found and Sully doesn't give a shit. 11/10 and 8/10 https://t.co/cwoP1ftbrj\n",
      "2175 ['10/10', '7/10'] 669037058363662336 Here we have Pancho and Peaches. Pancho is a Condoleezza Gryffindor, and Peaches is just an asshole. 10/10 &amp; 7/10 https://t.co/Lh1BsJrWPp\n",
      "2214 ['8/10', '1/10'] 668537837512433665 This is Spark. He's nervous. Other dog hasn't moved in a while. Won't come when called. Doesn't fetch well 8/10&amp;1/10 https://t.co/stEodX9Aba\n",
      "2261 ['10/10', '4/10'] 667544320556335104 This is Kial. Kial is either wearing a cape, which would be rad, or flashing us, which would be rude. 10/10 or 4/10 https://t.co/8zcwIoiuqR\n",
      "2270 ['7/10', '8/10'] 667491009379606528 Two dogs in this one. Both are rare Jujitsu Pythagoreans. One slightly whiter than other. Long legs. 7/10 and 8/10 https://t.co/ITxxcc4v9y\n",
      "2296 ['10/10', '10/10'] 667070482143944705 After much debate this dog is being upgraded to 10/10. I repeat 10/10\n",
      "2304 ['10/10', '10/10'] 666835007768551424 These are Peruvian Feldspars. Their names are Cupit and Prencer. Both resemble Rand Paul. Sick outfits 10/10 &amp; 10/10 https://t.co/ZnEMHBsAs1\n",
      "2333 ['1/2', '9/10'] 666287406224695296 This is an Albanian 3 1/2 legged  Episcopalian. Loves well-polished hardwood flooring. Penis on the collar. 9/10 https://t.co/d9NcXFKwLv\n",
      "33\n"
     ]
    }
   ],
   "source": [
    "counter = 0\n",
    "for item in range(len(df_tweet['rating_raw'])):\n",
    "    x = len(df_tweet['rating_raw'].iloc[item])\n",
    "    if x == 1:\n",
    "        pass\n",
    "    elif x > 1:\n",
    "        counter += 1\n",
    "        print(item, df_tweet['rating_raw'].iloc[item], df_tweet['tweet_id'].iloc[item], df_tweet['full_text'].iloc[item] )\n",
    "print(counter)"
   ]
  },
  {
   "cell_type": "code",
   "execution_count": 35,
   "metadata": {},
   "outputs": [
    {
     "name": "stderr",
     "output_type": "stream",
     "text": [
      "C:\\Users\\Q\\anaconda3\\lib\\site-packages\\pandas\\core\\indexing.py:670: SettingWithCopyWarning: \n",
      "A value is trying to be set on a copy of a slice from a DataFrame\n",
      "\n",
      "See the caveats in the documentation: https://pandas.pydata.org/pandas-docs/stable/user_guide/indexing.html#returning-a-view-versus-a-copy\n",
      "  iloc._setitem_with_indexer(indexer, value)\n"
     ]
    }
   ],
   "source": [
    "# Manually correct the tweets with 2+ ratings or ratings not of dogs\n",
    "df_tweet['rating_raw'].iloc[54] = ['13/10']\n",
    "df_tweet['rating_raw'].iloc[312] = ['13/10']\n",
    "df_tweet['rating_raw'].iloc[560] = ['11.5/10']\n",
    "df_tweet['rating_raw'].iloc[765] = ['11.5/10']\n",
    "df_tweet['rating_raw'].iloc[783] = ['14/10']\n",
    "df_tweet['rating_raw'].iloc[858] = ['8/10']\n",
    "df_tweet['rating_raw'].iloc[1005] = ['8.5/10']\n",
    "df_tweet['rating_raw'].iloc[1066] = ['14/10']\n",
    "df_tweet['rating_raw'].iloc[1163] = ['13/10']\n",
    "df_tweet['rating_raw'].iloc[1200] = ['11/10']\n",
    "df_tweet['rating_raw'].iloc[1220] = ['9/10']\n",
    "df_tweet['rating_raw'].iloc[1357] = ['5.5/10']\n",
    "df_tweet['rating_raw'].iloc[1457] = ['4/10']\n",
    "df_tweet['rating_raw'].iloc[1463] = ['10/10']\n",
    "df_tweet['rating_raw'].iloc[1506] = ['7.5/10']\n",
    "df_tweet['rating_raw'].iloc[1523] = ['8/10']\n",
    "df_tweet['rating_raw'].iloc[1536] = ['10.5/10']\n",
    "df_tweet['rating_raw'].iloc[1660] = ['10/10']\n",
    "df_tweet['rating_raw'].iloc[1793] = ['10.5/10']\n",
    "df_tweet['rating_raw'].iloc[1830] = ['8.5/10']\n",
    "df_tweet['rating_raw'].iloc[1895] = ['10/10']\n",
    "df_tweet['rating_raw'].iloc[1899] = ['8/10']\n",
    "df_tweet['rating_raw'].iloc[1968] = ['8/10']\n",
    "df_tweet['rating_raw'].iloc[2008] = ['10/10']\n",
    "df_tweet['rating_raw'].iloc[2062] = ['11/10']\n",
    "df_tweet['rating_raw'].iloc[2111] = ['9.5/10']\n",
    "df_tweet['rating_raw'].iloc[2175] = ['8.5/10']\n",
    "df_tweet['rating_raw'].iloc[2214] = ['8/10']\n",
    "df_tweet['rating_raw'].iloc[2261] = ['7/10']\n",
    "df_tweet['rating_raw'].iloc[2270] = ['7.5/10']\n",
    "df_tweet['rating_raw'].iloc[2296] = ['10/10']\n",
    "df_tweet['rating_raw'].iloc[2304] = ['10/10']\n",
    "df_tweet['rating_raw'].iloc[2333] = ['9/10']"
   ]
  },
  {
   "cell_type": "markdown",
   "metadata": {},
   "source": [
    "##### TEST Quality Issue 7"
   ]
  },
  {
   "cell_type": "code",
   "execution_count": 36,
   "metadata": {},
   "outputs": [
    {
     "name": "stdout",
     "output_type": "stream",
     "text": [
      "0\n"
     ]
    }
   ],
   "source": [
    "counter = 0\n",
    "for item in range(len(df_tweet['rating_raw'])):\n",
    "    x = len(df_tweet['rating_raw'].iloc[item])\n",
    "    if x == 1:\n",
    "        pass\n",
    "    elif x > 1:\n",
    "        counter += 1\n",
    "        print(item, df_tweet['rating_raw'].iloc[item], df_tweet['tweet_id'].iloc[item], df_tweet['full_text'].iloc[item] )\n",
    "print(counter)\n",
    "# All good, no entries"
   ]
  },
  {
   "cell_type": "markdown",
   "metadata": {},
   "source": [
    "### 4.8 Quality Issue 8: Fix the rating system\n",
    "<a id=\"qi_8\"></a>"
   ]
  },
  {
   "cell_type": "markdown",
   "metadata": {},
   "source": [
    "##### DEFINE Quality Issue 8"
   ]
  },
  {
   "cell_type": "markdown",
   "metadata": {},
   "source": [
    "Some of the ratings in \"tweet_data\" are incorrect.  To fix these, I pulled the ratings directly from the \"tweet-json.txt\" file.  I used regular expressions to pull ratings from the text of the tweet.  It also pulled numbers that looked like ratings but aren't.  I fixed this in Quality Issue 7.  Now all the ratings are single values in a list.  I want these values as floats to be able to perform numerical operations on."
   ]
  },
  {
   "cell_type": "markdown",
   "metadata": {},
   "source": [
    "##### CODE Quality Issue 8"
   ]
  },
  {
   "cell_type": "code",
   "execution_count": 37,
   "metadata": {},
   "outputs": [],
   "source": [
    "# Add two columns, for the numerator and denominator of the dog rating, to \"df_tweet\"\n",
    "df_tweet['rating_num'] = np.NaN\n",
    "df_tweet['rating_den'] = np.NaN"
   ]
  },
  {
   "cell_type": "code",
   "execution_count": 38,
   "metadata": {},
   "outputs": [
    {
     "name": "stderr",
     "output_type": "stream",
     "text": [
      "C:\\Users\\Q\\anaconda3\\lib\\site-packages\\pandas\\core\\indexing.py:670: SettingWithCopyWarning: \n",
      "A value is trying to be set on a copy of a slice from a DataFrame\n",
      "\n",
      "See the caveats in the documentation: https://pandas.pydata.org/pandas-docs/stable/user_guide/indexing.html#returning-a-view-versus-a-copy\n",
      "  iloc._setitem_with_indexer(indexer, value)\n"
     ]
    }
   ],
   "source": [
    "# Convert \"rating_raw\" from list to str\n",
    "for item in range(len( df_tweet['rating_raw'])):\n",
    "    rating_val = df_tweet['rating_raw'].iloc[item]\n",
    "    df_tweet['rating_raw'].iloc[item] = ''.join(rating_val)"
   ]
  },
  {
   "cell_type": "code",
   "execution_count": 39,
   "metadata": {},
   "outputs": [
    {
     "name": "stderr",
     "output_type": "stream",
     "text": [
      "C:\\Users\\Q\\anaconda3\\lib\\site-packages\\pandas\\core\\indexing.py:670: SettingWithCopyWarning: \n",
      "A value is trying to be set on a copy of a slice from a DataFrame\n",
      "\n",
      "See the caveats in the documentation: https://pandas.pydata.org/pandas-docs/stable/user_guide/indexing.html#returning-a-view-versus-a-copy\n",
      "  iloc._setitem_with_indexer(indexer, value)\n"
     ]
    }
   ],
   "source": [
    "# Split the numerator and denominator values from \"rating_raw\" into separate columns\n",
    "for item in range( len( df_tweet['rating_raw'] ) ):\n",
    "    df_tweet['rating_num'].iloc[item], df_tweet['rating_den'].iloc[item] = df_tweet['rating_raw'].iloc[item].split('/')"
   ]
  },
  {
   "cell_type": "code",
   "execution_count": 40,
   "metadata": {},
   "outputs": [],
   "source": [
    "# Make the numerator and denominator ratings \"float\" datatypes\n",
    "df_tweet['rating_num'] = df_tweet['rating_num'].astype(float)\n",
    "df_tweet['rating_den'] = df_tweet['rating_den'].astype(float)"
   ]
  },
  {
   "cell_type": "markdown",
   "metadata": {},
   "source": [
    "##### TEST Quality Issue 8"
   ]
  },
  {
   "cell_type": "code",
   "execution_count": 41,
   "metadata": {},
   "outputs": [
    {
     "name": "stdout",
     "output_type": "stream",
     "text": [
      "<class 'pandas.core.frame.DataFrame'>\n",
      "RangeIndex: 2354 entries, 0 to 2353\n",
      "Data columns (total 9 columns):\n",
      " #   Column          Non-Null Count  Dtype  \n",
      "---  ------          --------------  -----  \n",
      " 0   tweet_id        2354 non-null   object \n",
      " 1   retweet_count   2354 non-null   int64  \n",
      " 2   favorite_count  2354 non-null   int64  \n",
      " 3   dog_stage       422 non-null    object \n",
      " 4   retweet         2354 non-null   bool   \n",
      " 5   rating_raw      2354 non-null   object \n",
      " 6   full_text       2354 non-null   object \n",
      " 7   rating_num      2354 non-null   float64\n",
      " 8   rating_den      2354 non-null   float64\n",
      "dtypes: bool(1), float64(2), int64(2), object(4)\n",
      "memory usage: 149.5+ KB\n"
     ]
    }
   ],
   "source": [
    "df_tweet.info()"
   ]
  },
  {
   "cell_type": "code",
   "execution_count": 42,
   "metadata": {},
   "outputs": [
    {
     "data": {
      "text/html": [
       "<div>\n",
       "<style scoped>\n",
       "    .dataframe tbody tr th:only-of-type {\n",
       "        vertical-align: middle;\n",
       "    }\n",
       "\n",
       "    .dataframe tbody tr th {\n",
       "        vertical-align: top;\n",
       "    }\n",
       "\n",
       "    .dataframe thead th {\n",
       "        text-align: right;\n",
       "    }\n",
       "</style>\n",
       "<table border=\"1\" class=\"dataframe\">\n",
       "  <thead>\n",
       "    <tr style=\"text-align: right;\">\n",
       "      <th></th>\n",
       "      <th>tweet_id</th>\n",
       "      <th>retweet_count</th>\n",
       "      <th>favorite_count</th>\n",
       "      <th>dog_stage</th>\n",
       "      <th>retweet</th>\n",
       "      <th>rating_raw</th>\n",
       "      <th>full_text</th>\n",
       "      <th>rating_num</th>\n",
       "      <th>rating_den</th>\n",
       "    </tr>\n",
       "  </thead>\n",
       "  <tbody>\n",
       "    <tr>\n",
       "      <th>694</th>\n",
       "      <td>786709082849828864</td>\n",
       "      <td>7069</td>\n",
       "      <td>20296</td>\n",
       "      <td>NaN</td>\n",
       "      <td>False</td>\n",
       "      <td>9.75/10</td>\n",
       "      <td>This is Logan, the Chow who lived. He solemnly...</td>\n",
       "      <td>9.75</td>\n",
       "      <td>10.0</td>\n",
       "    </tr>\n",
       "  </tbody>\n",
       "</table>\n",
       "</div>"
      ],
      "text/plain": [
       "               tweet_id  retweet_count  favorite_count dog_stage  retweet  \\\n",
       "694  786709082849828864           7069           20296       NaN    False   \n",
       "\n",
       "    rating_raw                                          full_text  rating_num  \\\n",
       "694    9.75/10  This is Logan, the Chow who lived. He solemnly...        9.75   \n",
       "\n",
       "     rating_den  \n",
       "694        10.0  "
      ]
     },
     "execution_count": 42,
     "metadata": {},
     "output_type": "execute_result"
    }
   ],
   "source": [
    "# Check this tweet which has decimal values.\n",
    "df_tweet[ df_tweet['tweet_id'] == '786709082849828864' ]"
   ]
  },
  {
   "cell_type": "markdown",
   "metadata": {},
   "source": [
    "### 4.9 Tidiness Issue 1: The dog stage columns are messy\n",
    "<a id=\"ti_1\"></a>"
   ]
  },
  {
   "cell_type": "markdown",
   "metadata": {},
   "source": [
    "##### DEFINE Tidiness Issue 1"
   ]
  },
  {
   "cell_type": "markdown",
   "metadata": {},
   "source": [
    "The dataframe \"tweet_data\" has 4 variables as 4 columns, instead of one column with 4 variable."
   ]
  },
  {
   "cell_type": "markdown",
   "metadata": {},
   "source": [
    "##### CODE Tidiness Issue 1"
   ]
  },
  {
   "cell_type": "code",
   "execution_count": 43,
   "metadata": {},
   "outputs": [],
   "source": [
    "# Concatenate the dog stage columns in \"tweet_data\"\n",
    "tweet_data['dog_stage_raw'] = tweet_data['doggo'] + tweet_data['floofer'] + tweet_data['pupper'] + tweet_data['puppo']"
   ]
  },
  {
   "cell_type": "code",
   "execution_count": 44,
   "metadata": {},
   "outputs": [],
   "source": [
    "# Replace \"None\" with \"\", in the \"dog_stage_raw\" column\n",
    "tweet_data['dog_stage_raw'] = tweet_data['dog_stage_raw'].str.replace('None', '')"
   ]
  },
  {
   "cell_type": "code",
   "execution_count": 45,
   "metadata": {},
   "outputs": [],
   "source": [
    "# Replace \"\" with \"NaN\", in the \"dog_stage_raw\" column\n",
    "tweet_data['dog_stage_raw'] = tweet_data['dog_stage_raw'].replace('', np.NaN)"
   ]
  },
  {
   "cell_type": "markdown",
   "metadata": {},
   "source": [
    "##### TEST Tidiness Issue 1"
   ]
  },
  {
   "cell_type": "code",
   "execution_count": 46,
   "metadata": {},
   "outputs": [
    {
     "name": "stdout",
     "output_type": "stream",
     "text": [
      "<class 'pandas.core.frame.DataFrame'>\n",
      "Int64Index: 2175 entries, 0 to 2355\n",
      "Data columns (total 18 columns):\n",
      " #   Column                      Non-Null Count  Dtype              \n",
      "---  ------                      --------------  -----              \n",
      " 0   tweet_id                    2175 non-null   object             \n",
      " 1   in_reply_to_status_id       78 non-null     float64            \n",
      " 2   in_reply_to_user_id         78 non-null     float64            \n",
      " 3   timestamp                   2175 non-null   datetime64[ns, UTC]\n",
      " 4   source                      2175 non-null   object             \n",
      " 5   text                        2175 non-null   object             \n",
      " 6   retweeted_status_id         0 non-null      float64            \n",
      " 7   retweeted_status_user_id    0 non-null      float64            \n",
      " 8   retweeted_status_timestamp  0 non-null      object             \n",
      " 9   expanded_urls               2117 non-null   object             \n",
      " 10  rating_numerator            2175 non-null   int64              \n",
      " 11  rating_denominator          2175 non-null   int64              \n",
      " 12  name                        1391 non-null   object             \n",
      " 13  doggo                       2175 non-null   object             \n",
      " 14  floofer                     2175 non-null   object             \n",
      " 15  pupper                      2175 non-null   object             \n",
      " 16  puppo                       2175 non-null   object             \n",
      " 17  dog_stage_raw               344 non-null    object             \n",
      "dtypes: datetime64[ns, UTC](1), float64(4), int64(2), object(11)\n",
      "memory usage: 322.9+ KB\n"
     ]
    }
   ],
   "source": [
    "tweet_data.info()"
   ]
  },
  {
   "cell_type": "code",
   "execution_count": 47,
   "metadata": {},
   "outputs": [
    {
     "data": {
      "text/plain": [
       "pupper          224\n",
       "doggo            75\n",
       "puppo            24\n",
       "doggopupper      10\n",
       "floofer           9\n",
       "doggofloofer      1\n",
       "doggopuppo        1\n",
       "Name: dog_stage_raw, dtype: int64"
      ]
     },
     "execution_count": 47,
     "metadata": {},
     "output_type": "execute_result"
    }
   ],
   "source": [
    "tweet_data['dog_stage_raw'].value_counts()\n",
    "# There are 344 dog_stage values."
   ]
  },
  {
   "cell_type": "markdown",
   "metadata": {},
   "source": [
    "### 4.10 Tidiness Issue 2: Multiple dataframes\n",
    "<a id=\"ti_2\"></a>"
   ]
  },
  {
   "cell_type": "markdown",
   "metadata": {},
   "source": [
    "##### DEFINE Tidiness Issue 2"
   ]
  },
  {
   "cell_type": "markdown",
   "metadata": {},
   "source": [
    "There are 3 different dataframes with different information in each.  The only common column between each of them is \"tweet_id\", which we can use to join them."
   ]
  },
  {
   "cell_type": "markdown",
   "metadata": {},
   "source": [
    "##### CODE Tidiness Issue 2"
   ]
  },
  {
   "cell_type": "code",
   "execution_count": 48,
   "metadata": {},
   "outputs": [],
   "source": [
    "# First, merge \"df_tweet\" and \"tweet_data\"\n",
    "df_merge1 = pd.merge(df_tweet, tweet_data, on = 'tweet_id', how = 'right')"
   ]
  },
  {
   "cell_type": "code",
   "execution_count": 49,
   "metadata": {},
   "outputs": [],
   "source": [
    "# Delete non-useful columns, also so I can see all the columns, without them being truncated.\n",
    "del df_merge1['retweet']\n",
    "del df_merge1['rating_raw']\n",
    "del df_merge1['in_reply_to_status_id']\n",
    "del df_merge1['retweeted_status_timestamp']\n",
    "del df_merge1['rating_numerator']\n",
    "del df_merge1['rating_denominator']\n",
    "del df_merge1['doggo']\n",
    "del df_merge1['floofer']\n",
    "del df_merge1['pupper']\n",
    "del df_merge1['puppo']\n",
    "del df_merge1['dog_stage_raw']\n",
    "del df_merge1['text']\n",
    "del df_merge1['retweeted_status_id']\n",
    "del df_merge1['retweeted_status_user_id']\n",
    "del df_merge1['source']"
   ]
  },
  {
   "cell_type": "code",
   "execution_count": 50,
   "metadata": {},
   "outputs": [],
   "source": [
    "# Second, merge \"df_merge1\" and \"image_pred\"\n",
    "df_merge2 = pd.merge(df_merge1, image_pred, on = 'tweet_id', how = 'left')"
   ]
  },
  {
   "cell_type": "code",
   "execution_count": 51,
   "metadata": {},
   "outputs": [],
   "source": [
    "# Rename the columns from \"image_pred\", that are in \"df_merge2\", to make them clearer\n",
    "df_merge2.rename(columns = {\"p1\": \"algor_pred_1\",\n",
    "                            \"p2\": \"algor_pred_2\",\n",
    "                            \"p3\": \"algor_pred_3\",\n",
    "                            \"p1_conf\": \"pred_1_conf\",\n",
    "                            \"p2_conf\": \"pred_2_conf\",\n",
    "                            \"p3_conf\": \"pred_3_conf\",\n",
    "                            \"p1_dog\": \"p1_tf\",\n",
    "                            \"p2_dog\": \"p2_tf\",\n",
    "                            \"p3_dog\": \"p3_tf\",\n",
    "}, inplace = True)"
   ]
  },
  {
   "cell_type": "code",
   "execution_count": 52,
   "metadata": {},
   "outputs": [],
   "source": [
    "# Calculate the ratio of rating numerator and denominator in \"df_merge2\"\n",
    "df_merge2['rating_ratio'] = (df_merge2['rating_num']) / (df_merge2['rating_den'])"
   ]
  },
  {
   "cell_type": "code",
   "execution_count": 53,
   "metadata": {},
   "outputs": [],
   "source": [
    "# Change \"in_reply_to_user_id\" column to \"str\"\n",
    "df_merge2['in_reply_to_user_id'] = df_merge2['in_reply_to_user_id'].astype(str)"
   ]
  },
  {
   "cell_type": "code",
   "execution_count": 54,
   "metadata": {},
   "outputs": [],
   "source": [
    "# Change \"dog_stage\" values of \"None\" to null values\n",
    "df_merge2.loc[ df_merge2['dog_stage'] == 'None', 'dog_stage' ] = np.NaN"
   ]
  },
  {
   "cell_type": "markdown",
   "metadata": {},
   "source": [
    "##### TEST Tidiness Issue 2"
   ]
  },
  {
   "cell_type": "code",
   "execution_count": 55,
   "metadata": {},
   "outputs": [
    {
     "name": "stdout",
     "output_type": "stream",
     "text": [
      "<class 'pandas.core.frame.DataFrame'>\n",
      "Int64Index: 2175 entries, 0 to 2174\n",
      "Data columns (total 23 columns):\n",
      " #   Column               Non-Null Count  Dtype              \n",
      "---  ------               --------------  -----              \n",
      " 0   tweet_id             2175 non-null   object             \n",
      " 1   retweet_count        2175 non-null   int64              \n",
      " 2   favorite_count       2175 non-null   int64              \n",
      " 3   dog_stage            385 non-null    object             \n",
      " 4   full_text            2175 non-null   object             \n",
      " 5   rating_num           2175 non-null   float64            \n",
      " 6   rating_den           2175 non-null   float64            \n",
      " 7   in_reply_to_user_id  2175 non-null   object             \n",
      " 8   timestamp            2175 non-null   datetime64[ns, UTC]\n",
      " 9   expanded_urls        2117 non-null   object             \n",
      " 10  name                 1391 non-null   object             \n",
      " 11  jpg_url              1686 non-null   object             \n",
      " 12  img_num              1686 non-null   float64            \n",
      " 13  algor_pred_1         1686 non-null   object             \n",
      " 14  pred_1_conf          1686 non-null   float64            \n",
      " 15  p1_tf                1686 non-null   object             \n",
      " 16  algor_pred_2         1686 non-null   object             \n",
      " 17  pred_2_conf          1686 non-null   float64            \n",
      " 18  p2_tf                1686 non-null   object             \n",
      " 19  algor_pred_3         1686 non-null   object             \n",
      " 20  pred_3_conf          1686 non-null   float64            \n",
      " 21  p3_tf                1686 non-null   object             \n",
      " 22  rating_ratio         2175 non-null   float64            \n",
      "dtypes: datetime64[ns, UTC](1), float64(7), int64(2), object(13)\n",
      "memory usage: 407.8+ KB\n"
     ]
    }
   ],
   "source": [
    "df_merge2.info()"
   ]
  },
  {
   "cell_type": "markdown",
   "metadata": {},
   "source": [
    "### 4.11 Save The Cleaned Data\n",
    "<a id=\"save\"></a>"
   ]
  },
  {
   "cell_type": "code",
   "execution_count": 56,
   "metadata": {},
   "outputs": [],
   "source": [
    "# Save dataframe to csv file\n",
    "df_merge2.to_csv('twitter_archive_master.csv', index = False)"
   ]
  },
  {
   "cell_type": "markdown",
   "metadata": {},
   "source": [
    "# 5. Analyze Data\n",
    "<a id=\"analyze\"></a>"
   ]
  },
  {
   "cell_type": "code",
   "execution_count": 57,
   "metadata": {},
   "outputs": [],
   "source": [
    "# Possible Insights:\n",
    "# - retweets\n",
    "# - favorites\n",
    "# - rating ratio\n",
    "# - most popular dog breed"
   ]
  },
  {
   "cell_type": "markdown",
   "metadata": {},
   "source": [
    "### 5.1 Dogstage and Favorites and Retweets\n",
    "<a id=\"groupby_dogstage\"></a>"
   ]
  },
  {
   "cell_type": "code",
   "execution_count": 58,
   "metadata": {},
   "outputs": [
    {
     "data": {
      "text/html": [
       "<div>\n",
       "<style scoped>\n",
       "    .dataframe tbody tr th:only-of-type {\n",
       "        vertical-align: middle;\n",
       "    }\n",
       "\n",
       "    .dataframe tbody tr th {\n",
       "        vertical-align: top;\n",
       "    }\n",
       "\n",
       "    .dataframe thead th {\n",
       "        text-align: right;\n",
       "    }\n",
       "</style>\n",
       "<table border=\"1\" class=\"dataframe\">\n",
       "  <thead>\n",
       "    <tr style=\"text-align: right;\">\n",
       "      <th></th>\n",
       "      <th>count</th>\n",
       "      <th>min</th>\n",
       "      <th>max</th>\n",
       "      <th>mean</th>\n",
       "      <th>median</th>\n",
       "    </tr>\n",
       "    <tr>\n",
       "      <th>dog_stage</th>\n",
       "      <th></th>\n",
       "      <th></th>\n",
       "      <th></th>\n",
       "      <th></th>\n",
       "      <th></th>\n",
       "    </tr>\n",
       "  </thead>\n",
       "  <tbody>\n",
       "    <tr>\n",
       "      <th>doggo</th>\n",
       "      <td>82</td>\n",
       "      <td>39</td>\n",
       "      <td>79515</td>\n",
       "      <td>6049.634146</td>\n",
       "      <td>2860.0</td>\n",
       "    </tr>\n",
       "    <tr>\n",
       "      <th>doggo,floofer</th>\n",
       "      <td>1</td>\n",
       "      <td>3433</td>\n",
       "      <td>3433</td>\n",
       "      <td>3433.000000</td>\n",
       "      <td>3433.0</td>\n",
       "    </tr>\n",
       "    <tr>\n",
       "      <th>doggo,pupper</th>\n",
       "      <td>10</td>\n",
       "      <td>1265</td>\n",
       "      <td>17621</td>\n",
       "      <td>3971.200000</td>\n",
       "      <td>2543.0</td>\n",
       "    </tr>\n",
       "    <tr>\n",
       "      <th>doggo,puppo</th>\n",
       "      <td>2</td>\n",
       "      <td>3771</td>\n",
       "      <td>19196</td>\n",
       "      <td>11483.500000</td>\n",
       "      <td>11483.5</td>\n",
       "    </tr>\n",
       "    <tr>\n",
       "      <th>floofer</th>\n",
       "      <td>9</td>\n",
       "      <td>496</td>\n",
       "      <td>18497</td>\n",
       "      <td>4155.888889</td>\n",
       "      <td>2509.0</td>\n",
       "    </tr>\n",
       "    <tr>\n",
       "      <th>pupper</th>\n",
       "      <td>250</td>\n",
       "      <td>26</td>\n",
       "      <td>32883</td>\n",
       "      <td>2382.324000</td>\n",
       "      <td>1207.0</td>\n",
       "    </tr>\n",
       "    <tr>\n",
       "      <th>puppo</th>\n",
       "      <td>31</td>\n",
       "      <td>3</td>\n",
       "      <td>48265</td>\n",
       "      <td>5854.838710</td>\n",
       "      <td>3220.0</td>\n",
       "    </tr>\n",
       "  </tbody>\n",
       "</table>\n",
       "</div>"
      ],
      "text/plain": [
       "               count   min    max          mean   median\n",
       "dog_stage                                               \n",
       "doggo             82    39  79515   6049.634146   2860.0\n",
       "doggo,floofer      1  3433   3433   3433.000000   3433.0\n",
       "doggo,pupper      10  1265  17621   3971.200000   2543.0\n",
       "doggo,puppo        2  3771  19196  11483.500000  11483.5\n",
       "floofer            9   496  18497   4155.888889   2509.0\n",
       "pupper           250    26  32883   2382.324000   1207.0\n",
       "puppo             31     3  48265   5854.838710   3220.0"
      ]
     },
     "execution_count": 58,
     "metadata": {},
     "output_type": "execute_result"
    }
   ],
   "source": [
    "df_merge2.groupby('dog_stage')['retweet_count'].agg(['count', 'min', 'max', 'mean', 'median'])"
   ]
  },
  {
   "cell_type": "code",
   "execution_count": 60,
   "metadata": {},
   "outputs": [
    {
     "data": {
      "text/html": [
       "<div>\n",
       "<style scoped>\n",
       "    .dataframe tbody tr th:only-of-type {\n",
       "        vertical-align: middle;\n",
       "    }\n",
       "\n",
       "    .dataframe tbody tr th {\n",
       "        vertical-align: top;\n",
       "    }\n",
       "\n",
       "    .dataframe thead th {\n",
       "        text-align: right;\n",
       "    }\n",
       "</style>\n",
       "<table border=\"1\" class=\"dataframe\">\n",
       "  <thead>\n",
       "    <tr style=\"text-align: right;\">\n",
       "      <th></th>\n",
       "      <th>count</th>\n",
       "      <th>min</th>\n",
       "      <th>max</th>\n",
       "      <th>mean</th>\n",
       "      <th>median</th>\n",
       "    </tr>\n",
       "    <tr>\n",
       "      <th>dog_stage</th>\n",
       "      <th></th>\n",
       "      <th></th>\n",
       "      <th></th>\n",
       "      <th></th>\n",
       "      <th></th>\n",
       "    </tr>\n",
       "  </thead>\n",
       "  <tbody>\n",
       "    <tr>\n",
       "      <th>doggo</th>\n",
       "      <td>82</td>\n",
       "      <td>758</td>\n",
       "      <td>131075</td>\n",
       "      <td>16604.804878</td>\n",
       "      <td>10808.0</td>\n",
       "    </tr>\n",
       "    <tr>\n",
       "      <th>doggo,floofer</th>\n",
       "      <td>1</td>\n",
       "      <td>17169</td>\n",
       "      <td>17169</td>\n",
       "      <td>17169.000000</td>\n",
       "      <td>17169.0</td>\n",
       "    </tr>\n",
       "    <tr>\n",
       "      <th>doggo,pupper</th>\n",
       "      <td>10</td>\n",
       "      <td>4849</td>\n",
       "      <td>44619</td>\n",
       "      <td>12077.100000</td>\n",
       "      <td>8863.5</td>\n",
       "    </tr>\n",
       "    <tr>\n",
       "      <th>doggo,puppo</th>\n",
       "      <td>2</td>\n",
       "      <td>16304</td>\n",
       "      <td>47844</td>\n",
       "      <td>32074.000000</td>\n",
       "      <td>32074.0</td>\n",
       "    </tr>\n",
       "    <tr>\n",
       "      <th>floofer</th>\n",
       "      <td>9</td>\n",
       "      <td>1618</td>\n",
       "      <td>33345</td>\n",
       "      <td>11064.444444</td>\n",
       "      <td>6076.0</td>\n",
       "    </tr>\n",
       "    <tr>\n",
       "      <th>pupper</th>\n",
       "      <td>250</td>\n",
       "      <td>269</td>\n",
       "      <td>106827</td>\n",
       "      <td>7007.284000</td>\n",
       "      <td>3270.0</td>\n",
       "    </tr>\n",
       "    <tr>\n",
       "      <th>puppo</th>\n",
       "      <td>31</td>\n",
       "      <td>197</td>\n",
       "      <td>132810</td>\n",
       "      <td>20194.290323</td>\n",
       "      <td>15359.0</td>\n",
       "    </tr>\n",
       "  </tbody>\n",
       "</table>\n",
       "</div>"
      ],
      "text/plain": [
       "               count    min     max          mean   median\n",
       "dog_stage                                                 \n",
       "doggo             82    758  131075  16604.804878  10808.0\n",
       "doggo,floofer      1  17169   17169  17169.000000  17169.0\n",
       "doggo,pupper      10   4849   44619  12077.100000   8863.5\n",
       "doggo,puppo        2  16304   47844  32074.000000  32074.0\n",
       "floofer            9   1618   33345  11064.444444   6076.0\n",
       "pupper           250    269  106827   7007.284000   3270.0\n",
       "puppo             31    197  132810  20194.290323  15359.0"
      ]
     },
     "execution_count": 60,
     "metadata": {},
     "output_type": "execute_result"
    }
   ],
   "source": [
    "df_merge2.groupby('dog_stage')['favorite_count'].agg(['count', 'min', 'max', 'mean', 'median'])"
   ]
  },
  {
   "cell_type": "markdown",
   "metadata": {},
   "source": [
    "##### 5.1 Bar Chart: Favorites and Retweets vs Dogstage"
   ]
  },
  {
   "cell_type": "code",
   "execution_count": 61,
   "metadata": {},
   "outputs": [],
   "source": [
    "# Get retweet counts for only the main dog stages\n",
    "label_retweet = df_merge2[ (df_merge2['dog_stage'] == 'doggo') | (df_merge2['dog_stage'] == 'floofer')\n",
    "          | (df_merge2['dog_stage'] == 'pupper') | (df_merge2['dog_stage'] == 'puppo')   \n",
    "         ].groupby('dog_stage')['retweet_count'].median()"
   ]
  },
  {
   "cell_type": "code",
   "execution_count": 62,
   "metadata": {},
   "outputs": [
    {
     "name": "stdout",
     "output_type": "stream",
     "text": [
      "dog_stage\n",
      "doggo      2860\n",
      "floofer    2509\n",
      "pupper     1207\n",
      "puppo      3220\n",
      "Name: retweet_count, dtype: int64\n"
     ]
    }
   ],
   "source": [
    "# Check \"label_retweet\"\n",
    "print(label_retweet)"
   ]
  },
  {
   "cell_type": "code",
   "execution_count": 63,
   "metadata": {},
   "outputs": [],
   "source": [
    "# Get favorite counts for only the main dog stages\n",
    "label_favorite = df_merge2[ (df_merge2['dog_stage'] == 'doggo') | (df_merge2['dog_stage'] == 'floofer')\n",
    "          | (df_merge2['dog_stage'] == 'pupper') | (df_merge2['dog_stage'] == 'puppo')   \n",
    "         ].groupby('dog_stage')['favorite_count'].median()"
   ]
  },
  {
   "cell_type": "code",
   "execution_count": 64,
   "metadata": {},
   "outputs": [
    {
     "name": "stdout",
     "output_type": "stream",
     "text": [
      "dog_stage\n",
      "doggo      10808\n",
      "floofer     6076\n",
      "pupper      3270\n",
      "puppo      15359\n",
      "Name: favorite_count, dtype: int64\n"
     ]
    }
   ],
   "source": [
    "# Check \"label_favorite\"\n",
    "print(label_favorite)"
   ]
  },
  {
   "cell_type": "code",
   "execution_count": 65,
   "metadata": {},
   "outputs": [
    {
     "data": {
      "image/png": "[encoded data removed]",
      "text/plain": [
       "<Figure size 432x288 with 1 Axes>"
      ]
     },
     "metadata": {},
     "output_type": "display_data"
    }
   ],
   "source": [
    "# Bar Graph\n",
    "x_label_bar = ['doggo', 'floofer', 'pupper', 'puppo']\n",
    "x_bar = np.arange(len(x_label_bar))\n",
    "bar_width = 0.3\n",
    "\n",
    "# Bar graph\n",
    "fig, ax = plt.subplots()\n",
    "bar_retweet = ax.bar(x_bar - bar_width/2, label_retweet, bar_width, label='Retweets')\n",
    "bar_favorite = ax.bar(x_bar + bar_width/2, label_favorite, bar_width, label='Favorites')\n",
    "\n",
    "# x-axis labels\n",
    "ax.set_xticks(x_bar)\n",
    "ax.set_xticklabels(x_label_bar)\n",
    "\n",
    "# legend\n",
    "ax.legend();\n",
    "\n",
    "# title\n",
    "plt.title('Median Value vs Dog Stage')\n",
    "\n",
    "plt.tight_layout()\n",
    "# Save bar chart\n",
    "plt.savefig('retweet_favorite_vs_dog_stage.png');"
   ]
  },
  {
   "cell_type": "code",
   "execution_count": 66,
   "metadata": {},
   "outputs": [
    {
     "name": "stdout",
     "output_type": "stream",
     "text": [
      "Favorites:Retweets\n",
      "dog_stage\n",
      "doggo      3.779021\n",
      "floofer    2.421682\n",
      "pupper     2.709196\n",
      "puppo      4.769876\n",
      "dtype: float64\n"
     ]
    }
   ],
   "source": [
    "# See if ratio between Favorites and Retweets is similar between dog stages\n",
    "\n",
    "n = df_merge2[ (df_merge2['dog_stage'] == 'doggo') | (df_merge2['dog_stage'] == 'floofer')\n",
    "          | (df_merge2['dog_stage'] == 'pupper') | (df_merge2['dog_stage'] == 'puppo')   \n",
    "         ].groupby('dog_stage')['favorite_count'].median()\n",
    "\n",
    "d = df_merge2[ (df_merge2['dog_stage'] == 'doggo') | (df_merge2['dog_stage'] == 'floofer')\n",
    "          | (df_merge2['dog_stage'] == 'pupper') | (df_merge2['dog_stage'] == 'puppo')   \n",
    "         ].groupby('dog_stage')['retweet_count'].median()\n",
    "ratio = n / d\n",
    "print('Favorites:Retweets')\n",
    "print(ratio)"
   ]
  },
  {
   "cell_type": "markdown",
   "metadata": {},
   "source": [
    "### 5.2 Number and Ratio of Dogstages\n",
    "<a id=\"number_ratio_dogstages\"></a>"
   ]
  },
  {
   "cell_type": "code",
   "execution_count": 67,
   "metadata": {},
   "outputs": [],
   "source": [
    "# Number of each dog stage\n",
    "stage_ratio = df_merge2[ (df_merge2['dog_stage'] == 'doggo') | (df_merge2['dog_stage'] == 'floofer')\n",
    "          | (df_merge2['dog_stage'] == 'pupper') | (df_merge2['dog_stage'] == 'puppo')   \n",
    "         ]['dog_stage'].value_counts()"
   ]
  },
  {
   "cell_type": "code",
   "execution_count": 73,
   "metadata": {},
   "outputs": [
    {
     "name": "stdout",
     "output_type": "stream",
     "text": [
      "pupper     250\n",
      "doggo       82\n",
      "puppo       31\n",
      "floofer      9\n",
      "Name: dog_stage, dtype: int64\n",
      "372\n"
     ]
    }
   ],
   "source": [
    "# Check \"stage_ratio\"\n",
    "print(stage_ratio)\n",
    "f = 250 + 82 + 31 + 9\n",
    "print(f)"
   ]
  },
  {
   "cell_type": "markdown",
   "metadata": {},
   "source": [
    "##### 5.2 Pie Chart: Number of each dogstage"
   ]
  },
  {
   "cell_type": "code",
   "execution_count": 69,
   "metadata": {},
   "outputs": [
    {
     "data": {
      "image/png": "[encoded data removed]",
      "text/plain": [
       "<Figure size 432x288 with 1 Axes>"
      ]
     },
     "metadata": {},
     "output_type": "display_data"
    }
   ],
   "source": [
    "# Pie Chart\n",
    "labels_pie = 'pupper', 'doggo', 'puppo', 'floofer'\n",
    "fig1, ax1 = plt.subplots()\n",
    "\n",
    "# Pie chart\n",
    "ax1.pie(stage_ratio, labels = labels_pie, autopct='%1.1f%%', startangle = 90, explode = (0.1, 0.1, 0.1, 0.2) );\n",
    "\n",
    "# Title\n",
    "plt.title('Dog Stages                      ')\n",
    "\n",
    "# Save pie chart\n",
    "plt.savefig('dog_stage_ratio_pie.png')"
   ]
  },
  {
   "cell_type": "markdown",
   "metadata": {},
   "source": [
    "### 5.3 Dogstage Ratings\n",
    "<a id=\"boxplot\"></a>"
   ]
  },
  {
   "cell_type": "code",
   "execution_count": 70,
   "metadata": {},
   "outputs": [
    {
     "data": {
      "text/html": [
       "<div>\n",
       "<style scoped>\n",
       "    .dataframe tbody tr th:only-of-type {\n",
       "        vertical-align: middle;\n",
       "    }\n",
       "\n",
       "    .dataframe tbody tr th {\n",
       "        vertical-align: top;\n",
       "    }\n",
       "\n",
       "    .dataframe thead th {\n",
       "        text-align: right;\n",
       "    }\n",
       "</style>\n",
       "<table border=\"1\" class=\"dataframe\">\n",
       "  <thead>\n",
       "    <tr style=\"text-align: right;\">\n",
       "      <th></th>\n",
       "      <th>count</th>\n",
       "      <th>min</th>\n",
       "      <th>max</th>\n",
       "      <th>mean</th>\n",
       "      <th>median</th>\n",
       "    </tr>\n",
       "    <tr>\n",
       "      <th>dog_stage</th>\n",
       "      <th></th>\n",
       "      <th></th>\n",
       "      <th></th>\n",
       "      <th></th>\n",
       "      <th></th>\n",
       "    </tr>\n",
       "  </thead>\n",
       "  <tbody>\n",
       "    <tr>\n",
       "      <th>doggo</th>\n",
       "      <td>82</td>\n",
       "      <td>0.8</td>\n",
       "      <td>1.4</td>\n",
       "      <td>1.178049</td>\n",
       "      <td>1.2</td>\n",
       "    </tr>\n",
       "    <tr>\n",
       "      <th>doggo,floofer</th>\n",
       "      <td>1</td>\n",
       "      <td>1.1</td>\n",
       "      <td>1.1</td>\n",
       "      <td>1.100000</td>\n",
       "      <td>1.1</td>\n",
       "    </tr>\n",
       "    <tr>\n",
       "      <th>doggo,pupper</th>\n",
       "      <td>10</td>\n",
       "      <td>0.5</td>\n",
       "      <td>1.3</td>\n",
       "      <td>1.110000</td>\n",
       "      <td>1.2</td>\n",
       "    </tr>\n",
       "    <tr>\n",
       "      <th>doggo,puppo</th>\n",
       "      <td>2</td>\n",
       "      <td>1.3</td>\n",
       "      <td>1.3</td>\n",
       "      <td>1.300000</td>\n",
       "      <td>1.3</td>\n",
       "    </tr>\n",
       "    <tr>\n",
       "      <th>floofer</th>\n",
       "      <td>9</td>\n",
       "      <td>1.0</td>\n",
       "      <td>1.3</td>\n",
       "      <td>1.188889</td>\n",
       "      <td>1.2</td>\n",
       "    </tr>\n",
       "    <tr>\n",
       "      <th>pupper</th>\n",
       "      <td>250</td>\n",
       "      <td>0.3</td>\n",
       "      <td>1.4</td>\n",
       "      <td>1.069812</td>\n",
       "      <td>1.1</td>\n",
       "    </tr>\n",
       "    <tr>\n",
       "      <th>puppo</th>\n",
       "      <td>31</td>\n",
       "      <td>0.9</td>\n",
       "      <td>1.4</td>\n",
       "      <td>1.203226</td>\n",
       "      <td>1.2</td>\n",
       "    </tr>\n",
       "  </tbody>\n",
       "</table>\n",
       "</div>"
      ],
      "text/plain": [
       "               count  min  max      mean  median\n",
       "dog_stage                                       \n",
       "doggo             82  0.8  1.4  1.178049     1.2\n",
       "doggo,floofer      1  1.1  1.1  1.100000     1.1\n",
       "doggo,pupper      10  0.5  1.3  1.110000     1.2\n",
       "doggo,puppo        2  1.3  1.3  1.300000     1.3\n",
       "floofer            9  1.0  1.3  1.188889     1.2\n",
       "pupper           250  0.3  1.4  1.069812     1.1\n",
       "puppo             31  0.9  1.4  1.203226     1.2"
      ]
     },
     "execution_count": 70,
     "metadata": {},
     "output_type": "execute_result"
    }
   ],
   "source": [
    "df_merge2.groupby('dog_stage')['rating_ratio'].agg(['count', 'min', 'max', 'mean', 'median'])"
   ]
  },
  {
   "cell_type": "markdown",
   "metadata": {},
   "source": [
    "##### 5.3 Boxplot: Rating for each dogstage"
   ]
  },
  {
   "cell_type": "code",
   "execution_count": 71,
   "metadata": {},
   "outputs": [],
   "source": [
    "# Boxplot (bp) data for dog stages\n",
    "bp_doggo = df_merge2[ (df_merge2['dog_stage'] == 'doggo') ]['rating_ratio']\n",
    "bp_floofer = df_merge2[ (df_merge2['dog_stage'] == 'floofer') ]['rating_ratio']\n",
    "bp_pupper = df_merge2[ (df_merge2['dog_stage'] == 'pupper') ]['rating_ratio']\n",
    "bp_puppo = df_merge2[ (df_merge2['dog_stage'] == 'puppo') ]['rating_ratio']\n",
    "\n",
    "# Make the individual data into a list for easier plot making\n",
    "box_plot_data = [bp_doggo, bp_floofer, bp_pupper, bp_puppo]"
   ]
  },
  {
   "cell_type": "code",
   "execution_count": 72,
   "metadata": {},
   "outputs": [
    {
     "data": {
      "image/png": "[encoded data removed]",
      "text/plain": [
       "<Figure size 432x288 with 1 Axes>"
      ]
     },
     "metadata": {},
     "output_type": "display_data"
    }
   ],
   "source": [
    "# Box Plot\n",
    "fig3, ax3 = plt.subplots()\n",
    "\n",
    "# Box Plot\n",
    "ax3.boxplot(box_plot_data, labels = ['Doggo', 'Floofer', 'Pupper', 'Puppo']);\n",
    "\n",
    "# Plot Title\n",
    "plt.title('Dog Stage Ratings');\n",
    "\n",
    "# Save box plot\n",
    "plt.savefig('dog_stage_ratings.png')"
   ]
  },
  {
   "cell_type": "markdown",
   "metadata": {},
   "source": [
    "# 6. Insights\n",
    "<a id=\"insights\"></a>"
   ]
  },
  {
   "cell_type": "markdown",
   "metadata": {},
   "source": [
    "1.  Puppers have the widest range of ratings, including the lowest, and some of the highest ratings.  Floofers have the highest ratings floor, their lowest rating is 10/10.\n",
    "\n",
    "2.  For favorites and retweets, the data is skewed right, meaning that the means are higher than the medians.  This is true for all four dog stages.\n",
    "\n",
    "3.  Puppers are the most represented dog stage, and also have the widest range of ratings. and the lowest average rating."
   ]
  }
 ],
 "metadata": {
  "kernelspec": {
   "display_name": "Python 3",
   "language": "python",
   "name": "python3"
  },
  "language_info": {
   "codemirror_mode": {
    "name": "ipython",
    "version": 3
   },
   "file_extension": ".py",
   "mimetype": "text/x-python",
   "name": "python",
   "nbconvert_exporter": "python",
   "pygments_lexer": "ipython3",
   "version": "3.8.5"
  },
  "varInspector": {
   "cols": {
    "lenName": 16,
    "lenType": 16,
    "lenVar": 40
   },
   "kernels_config": {
    "python": {
     "delete_cmd_postfix": "",
     "delete_cmd_prefix": "del ",
     "library": "var_list.py",
     "varRefreshCmd": "print(var_dic_list())"
    },
    "r": {
     "delete_cmd_postfix": ") ",
     "delete_cmd_prefix": "rm(",
     "library": "var_list.r",
     "varRefreshCmd": "cat(var_dic_list()) "
    }
   },
   "types_to_exclude": [
    "module",
    "function",
    "builtin_function_or_method",
    "instance",
    "_Feature"
   ],
   "window_display": false
  }
 },
 "nbformat": 4,
 "nbformat_minor": 4
}
